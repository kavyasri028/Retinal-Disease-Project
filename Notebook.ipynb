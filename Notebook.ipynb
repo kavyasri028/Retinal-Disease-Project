{
 "cells": [
  {
   "cell_type": "code",
   "execution_count": 1,
   "metadata": {},
   "outputs": [],
   "source": [
    "import warnings\n",
    "warnings.filterwarnings('ignore')"
   ]
  },
  {
   "cell_type": "code",
   "execution_count": 2,
   "metadata": {},
   "outputs": [],
   "source": [
    "import numpy as np\n",
    "import matplotlib.pyplot as plt\n",
    "import tensorflow as tf\n",
    "from tensorflow import keras\n",
    "from keras.layers import *\n",
    "from keras.models import *\n",
    "from keras.preprocessing import image\n",
    "from keras.preprocessing.image import ImageDataGenerator\n",
    "import os, shutil"
   ]
  },
  {
   "cell_type": "code",
   "execution_count": 3,
   "metadata": {},
   "outputs": [
    {
     "name": "stderr",
     "output_type": "stream",
     "text": [
      "Copying files: 320 files [00:00, 1698.69 files/s]\n"
     ]
    }
   ],
   "source": [
    "import splitfolders # or import splitfolders\n",
    "input_folder = \"EyeNet-master\"\n",
    "output = \"output\" #where you want the split datasets saved. one will be created if it does not exist or none is set\n",
    "\n",
    "splitfolders.ratio(input_folder, output=output, seed=42, ratio=(.7, .2, .1)) # ratio of split are in order of train/val/test. You can change to whatever you want. For train/val sets only, you could do .75, .25 for example."
   ]
  },
  {
   "cell_type": "code",
   "execution_count": 4,
   "metadata": {},
   "outputs": [],
   "source": [
    "train_path = \"output/train\"\n",
    "validation_path = \"output/val\"\n",
    "test_path = \"output/test\"\n"
   ]
  },
  {
   "cell_type": "code",
   "execution_count": 5,
   "metadata": {},
   "outputs": [
    {
     "name": "stdout",
     "output_type": "stream",
     "text": [
      "Found 256 images belonging to 32 classes.\n",
      "Found 96 images belonging to 32 classes.\n",
      "Found 32 images belonging to 32 classes.\n"
     ]
    }
   ],
   "source": [
    "# 1. Train Set\n",
    "train_gen = ImageDataGenerator(rescale = 1.0/255.0) # Normalise the data\n",
    "train_image_generator = train_gen.flow_from_directory(\n",
    "                                            train_path,\n",
    "                                            target_size=(128, 128),\n",
    "                                            batch_size=2,\n",
    "                                            class_mode='categorical')\n",
    "\n",
    "# 2. Validation Set\n",
    "val_gen = ImageDataGenerator(rescale = 1.0/255.0) # Normalise the data\n",
    "val_image_generator = train_gen.flow_from_directory(\n",
    "                                            validation_path,\n",
    "                                            target_size=(128, 128),\n",
    "                                            batch_size=2,\n",
    "                                            class_mode='categorical')\n",
    "\n",
    "# 3. Test Set\n",
    "test_gen = ImageDataGenerator(rescale = 1.0/255.0) # Normalise the data\n",
    "test_image_generator = train_gen.flow_from_directory(\n",
    "                                            test_path,\n",
    "                                            target_size=(128, 128),\n",
    "                                            batch_size=2,\n",
    "                                            class_mode='categorical')"
   ]
  },
  {
   "cell_type": "code",
   "execution_count": 6,
   "metadata": {},
   "outputs": [],
   "source": [
    "from keras import backend as K\n",
    "\n",
    "def recall_m(y_true, y_pred):\n",
    "    true_positives = K.sum(K.round(K.clip(y_true * y_pred, 0, 1)))\n",
    "    possible_positives = K.sum(K.round(K.clip(y_true, 0, 1)))\n",
    "    recall = true_positives / (possible_positives + K.epsilon())\n",
    "    return recall\n",
    "\n",
    "def precision_m(y_true, y_pred):\n",
    "    true_positives = K.sum(K.round(K.clip(y_true * y_pred, 0, 1)))\n",
    "    predicted_positives = K.sum(K.round(K.clip(y_pred, 0, 1)))\n",
    "    precision = true_positives / (predicted_positives + K.epsilon())\n",
    "    return precision\n",
    "\n",
    "def f1_m(y_true, y_pred):\n",
    "    precision = precision_m(y_true, y_pred)\n",
    "    recall = recall_m(y_true, y_pred)\n",
    "    return 2*((precision*recall)/(precision+recall+K.epsilon()))"
   ]
  },
  {
   "cell_type": "code",
   "execution_count": 7,
   "metadata": {},
   "outputs": [
    {
     "name": "stdout",
     "output_type": "stream",
     "text": [
      "{0: 'AMN Macular Neuroretinopathy', 1: \"Adult Coats' Disease\", 2: 'Adult Foveomacular Dystrophy Pattern', 3: 'Age-Related Macular Degeneration With Pattern Dystrophy Appearance', 4: 'Antiphospholipid Antibody Syndrome', 5: \"Behcet's\", 6: 'Bilateral Macular Dystrophy', 7: \"Bull's Eye Maculopathy Chloroquine\", 8: 'CMV Chorioretinitis', 9: 'Central Serous Chorioretinopathy', 10: 'Choroidal Nevus', 11: 'Cone - Rod Dystrophy', 12: 'Congenital Syphillis', 13: 'Diabetic Maculopathy Multiple Myeloma with Retinal Detachment', 14: 'Giant Retinal Tear', 15: 'Juxtafoveal Telangiectasis DM Diabetes', 16: \"Leber's Stellate Maculopathy\", 17: 'Macular Dystrophy', 18: 'Multifocal Exudative Detachments Due to VKH', 19: 'Myelinated Nerve Fibers', 20: 'North Carolina Dystrophy', 21: 'Optic Disc Drusen', 22: 'Pattern Dystrophy Simulating Fundus Flavimaculatus', 23: 'Reticular Pattern Dystrophy', 24: 'Retinal Folds Following Retinal Reattachment Surgery', 25: 'Retrohyaloid Hemorrhage', 26: 'Roth Spot', 27: 'Self-Applied Retinal Detachment', 28: 'Solar Retinopathy Familial', 29: \"Susac's Syndrome\", 30: \"Terson's Syndrome\", 31: 'Wyburn-Mason Syndrome'}\n"
     ]
    }
   ],
   "source": [
    "# Print the class encodings done by the generators\n",
    "class_map = dict([(v, k) for k, v in train_image_generator.class_indices.items()])\n",
    "print(class_map)"
   ]
  },
  {
   "cell_type": "markdown",
   "metadata": {},
   "source": [
    "Feature Extraction for ML"
   ]
  },
  {
   "cell_type": "code",
   "execution_count": 8,
   "metadata": {},
   "outputs": [
    {
     "name": "stdout",
     "output_type": "stream",
     "text": [
      "['test', 'train', 'val']\n"
     ]
    }
   ],
   "source": [
    "import numpy as np \n",
    "import matplotlib.pyplot as plt\n",
    "import glob\n",
    "import cv2\n",
    "\n",
    "from keras.models import Model, Sequential\n",
    "from keras.layers import Dense, Flatten, Conv2D, MaxPooling2D\n",
    "from keras.layers.normalization import BatchNormalization\n",
    "import os\n",
    "import seaborn as sns\n",
    "from keras.applications.vgg16 import VGG16\n",
    "\n",
    "# Read input images and assign labels based on folder names\n",
    "print(os.listdir(\"output/\"))\n",
    "\n",
    "SIZE = 128  #Resize images\n",
    "\n",
    "#Capture training data and labels into respective lists\n",
    "train_images = []\n",
    "train_labels = [] "
   ]
  },
  {
   "cell_type": "code",
   "execution_count": 9,
   "metadata": {},
   "outputs": [
    {
     "name": "stdout",
     "output_type": "stream",
     "text": [
      "Adult Coats' Disease\n",
      "output/train\\Adult Coats' Disease\\2.jpg\n",
      "output/train\\Adult Coats' Disease\\3.jpg\n",
      "output/train\\Adult Coats' Disease\\4.jpg\n",
      "output/train\\Adult Coats' Disease\\5.jpg\n",
      "output/train\\Adult Coats' Disease\\6.jpg\n",
      "output/train\\Adult Coats' Disease\\7.jpg\n",
      "output/train\\Adult Coats' Disease\\8.jpg\n",
      "output/train\\Adult Coats' Disease\\9.jpg\n",
      "Adult Foveomacular Dystrophy Pattern\n",
      "output/train\\Adult Foveomacular Dystrophy Pattern\\2.jpg\n",
      "output/train\\Adult Foveomacular Dystrophy Pattern\\3.jpg\n",
      "output/train\\Adult Foveomacular Dystrophy Pattern\\4.jpg\n",
      "output/train\\Adult Foveomacular Dystrophy Pattern\\5.jpg\n",
      "output/train\\Adult Foveomacular Dystrophy Pattern\\6.jpg\n",
      "output/train\\Adult Foveomacular Dystrophy Pattern\\7.jpg\n",
      "output/train\\Adult Foveomacular Dystrophy Pattern\\8.jpg\n",
      "output/train\\Adult Foveomacular Dystrophy Pattern\\9.jpg\n",
      "Age-Related Macular Degeneration With Pattern Dystrophy Appearance\n",
      "output/train\\Age-Related Macular Degeneration With Pattern Dystrophy Appearance\\2.jpg\n",
      "output/train\\Age-Related Macular Degeneration With Pattern Dystrophy Appearance\\3.jpg\n",
      "output/train\\Age-Related Macular Degeneration With Pattern Dystrophy Appearance\\4.jpg\n",
      "output/train\\Age-Related Macular Degeneration With Pattern Dystrophy Appearance\\5.jpg\n",
      "output/train\\Age-Related Macular Degeneration With Pattern Dystrophy Appearance\\6.jpg\n",
      "output/train\\Age-Related Macular Degeneration With Pattern Dystrophy Appearance\\7.jpg\n",
      "output/train\\Age-Related Macular Degeneration With Pattern Dystrophy Appearance\\8.jpg\n",
      "output/train\\Age-Related Macular Degeneration With Pattern Dystrophy Appearance\\9.jpg\n",
      "AMN Macular Neuroretinopathy\n",
      "output/train\\AMN Macular Neuroretinopathy\\2.jpg\n",
      "output/train\\AMN Macular Neuroretinopathy\\3.jpg\n",
      "output/train\\AMN Macular Neuroretinopathy\\4.jpg\n",
      "output/train\\AMN Macular Neuroretinopathy\\5.jpg\n",
      "output/train\\AMN Macular Neuroretinopathy\\6.jpg\n",
      "output/train\\AMN Macular Neuroretinopathy\\7.jpg\n",
      "output/train\\AMN Macular Neuroretinopathy\\8.jpg\n",
      "output/train\\AMN Macular Neuroretinopathy\\9.jpg\n",
      "Antiphospholipid Antibody Syndrome\n",
      "output/train\\Antiphospholipid Antibody Syndrome\\2.jpg\n",
      "output/train\\Antiphospholipid Antibody Syndrome\\3.jpg\n",
      "output/train\\Antiphospholipid Antibody Syndrome\\4.jpg\n",
      "output/train\\Antiphospholipid Antibody Syndrome\\5.jpg\n",
      "output/train\\Antiphospholipid Antibody Syndrome\\6.jpg\n",
      "output/train\\Antiphospholipid Antibody Syndrome\\7.jpg\n",
      "output/train\\Antiphospholipid Antibody Syndrome\\8.jpg\n",
      "output/train\\Antiphospholipid Antibody Syndrome\\9.jpg\n",
      "Behcet's\n",
      "output/train\\Behcet's\\2.jpg\n",
      "output/train\\Behcet's\\3.jpg\n",
      "output/train\\Behcet's\\4.jpg\n",
      "output/train\\Behcet's\\5.jpg\n",
      "output/train\\Behcet's\\6.jpg\n",
      "output/train\\Behcet's\\7.jpg\n",
      "output/train\\Behcet's\\8.jpg\n",
      "output/train\\Behcet's\\9.jpg\n",
      "Bilateral Macular Dystrophy\n",
      "output/train\\Bilateral Macular Dystrophy\\2.jpg\n",
      "output/train\\Bilateral Macular Dystrophy\\3.jpg\n",
      "output/train\\Bilateral Macular Dystrophy\\4.jpg\n",
      "output/train\\Bilateral Macular Dystrophy\\5.jpg\n",
      "output/train\\Bilateral Macular Dystrophy\\6.jpg\n",
      "output/train\\Bilateral Macular Dystrophy\\7.jpg\n",
      "output/train\\Bilateral Macular Dystrophy\\8.jpg\n",
      "output/train\\Bilateral Macular Dystrophy\\9.jpg\n",
      "Bull's Eye Maculopathy Chloroquine\n",
      "output/train\\Bull's Eye Maculopathy Chloroquine\\2.jpg\n",
      "output/train\\Bull's Eye Maculopathy Chloroquine\\3.jpg\n",
      "output/train\\Bull's Eye Maculopathy Chloroquine\\4.jpg\n",
      "output/train\\Bull's Eye Maculopathy Chloroquine\\5.jpg\n",
      "output/train\\Bull's Eye Maculopathy Chloroquine\\6.jpg\n",
      "output/train\\Bull's Eye Maculopathy Chloroquine\\7.jpg\n",
      "output/train\\Bull's Eye Maculopathy Chloroquine\\8.jpg\n",
      "output/train\\Bull's Eye Maculopathy Chloroquine\\9.jpg\n",
      "Central Serous Chorioretinopathy\n",
      "output/train\\Central Serous Chorioretinopathy\\2.jpg\n",
      "output/train\\Central Serous Chorioretinopathy\\3.jpg\n",
      "output/train\\Central Serous Chorioretinopathy\\4.jpg\n",
      "output/train\\Central Serous Chorioretinopathy\\5.jpg\n",
      "output/train\\Central Serous Chorioretinopathy\\6.jpg\n",
      "output/train\\Central Serous Chorioretinopathy\\7.jpg\n",
      "output/train\\Central Serous Chorioretinopathy\\8.jpg\n",
      "output/train\\Central Serous Chorioretinopathy\\9.jpg\n",
      "Choroidal Nevus\n",
      "output/train\\Choroidal Nevus\\2.jpg\n",
      "output/train\\Choroidal Nevus\\3.jpg\n",
      "output/train\\Choroidal Nevus\\4.jpg\n",
      "output/train\\Choroidal Nevus\\5.jpg\n",
      "output/train\\Choroidal Nevus\\6.jpg\n",
      "output/train\\Choroidal Nevus\\7.jpg\n",
      "output/train\\Choroidal Nevus\\8.jpg\n",
      "output/train\\Choroidal Nevus\\9.jpg\n",
      "CMV Chorioretinitis\n",
      "output/train\\CMV Chorioretinitis\\2.jpg\n",
      "output/train\\CMV Chorioretinitis\\3.jpg\n",
      "output/train\\CMV Chorioretinitis\\4.jpg\n",
      "output/train\\CMV Chorioretinitis\\5.jpg\n",
      "output/train\\CMV Chorioretinitis\\6.jpg\n",
      "output/train\\CMV Chorioretinitis\\7.jpg\n",
      "output/train\\CMV Chorioretinitis\\8.jpg\n",
      "output/train\\CMV Chorioretinitis\\9.jpg\n",
      "Cone - Rod Dystrophy\n",
      "output/train\\Cone - Rod Dystrophy\\2.jpg\n",
      "output/train\\Cone - Rod Dystrophy\\3.jpg\n",
      "output/train\\Cone - Rod Dystrophy\\4.jpg\n",
      "output/train\\Cone - Rod Dystrophy\\5.jpg\n",
      "output/train\\Cone - Rod Dystrophy\\6.jpg\n",
      "output/train\\Cone - Rod Dystrophy\\7.jpg\n",
      "output/train\\Cone - Rod Dystrophy\\8.jpg\n",
      "output/train\\Cone - Rod Dystrophy\\9.jpg\n",
      "Congenital Syphillis\n",
      "output/train\\Congenital Syphillis\\2.jpg\n",
      "output/train\\Congenital Syphillis\\3.jpg\n",
      "output/train\\Congenital Syphillis\\4.jpg\n",
      "output/train\\Congenital Syphillis\\5.jpg\n",
      "output/train\\Congenital Syphillis\\6.jpg\n",
      "output/train\\Congenital Syphillis\\7.jpg\n",
      "output/train\\Congenital Syphillis\\8.jpg\n",
      "output/train\\Congenital Syphillis\\9.jpg\n",
      "Diabetic Maculopathy Multiple Myeloma with Retinal Detachment\n",
      "output/train\\Diabetic Maculopathy Multiple Myeloma with Retinal Detachment\\2.jpg\n",
      "output/train\\Diabetic Maculopathy Multiple Myeloma with Retinal Detachment\\3.jpg\n",
      "output/train\\Diabetic Maculopathy Multiple Myeloma with Retinal Detachment\\4.jpg\n",
      "output/train\\Diabetic Maculopathy Multiple Myeloma with Retinal Detachment\\5.jpg\n",
      "output/train\\Diabetic Maculopathy Multiple Myeloma with Retinal Detachment\\6.jpg\n",
      "output/train\\Diabetic Maculopathy Multiple Myeloma with Retinal Detachment\\7.jpg\n",
      "output/train\\Diabetic Maculopathy Multiple Myeloma with Retinal Detachment\\8.jpg\n",
      "output/train\\Diabetic Maculopathy Multiple Myeloma with Retinal Detachment\\9.jpg\n",
      "Giant Retinal Tear\n",
      "output/train\\Giant Retinal Tear\\2.jpg\n",
      "output/train\\Giant Retinal Tear\\3.jpg\n",
      "output/train\\Giant Retinal Tear\\4.jpg\n",
      "output/train\\Giant Retinal Tear\\5.jpg\n",
      "output/train\\Giant Retinal Tear\\6.jpg\n",
      "output/train\\Giant Retinal Tear\\7.jpg\n",
      "output/train\\Giant Retinal Tear\\8.jpg\n",
      "output/train\\Giant Retinal Tear\\9.jpg\n",
      "Juxtafoveal Telangiectasis DM Diabetes\n",
      "output/train\\Juxtafoveal Telangiectasis DM Diabetes\\2.jpg\n",
      "output/train\\Juxtafoveal Telangiectasis DM Diabetes\\3.jpg\n",
      "output/train\\Juxtafoveal Telangiectasis DM Diabetes\\4.jpg\n",
      "output/train\\Juxtafoveal Telangiectasis DM Diabetes\\5.jpg\n",
      "output/train\\Juxtafoveal Telangiectasis DM Diabetes\\6.jpg\n",
      "output/train\\Juxtafoveal Telangiectasis DM Diabetes\\7.jpg\n",
      "output/train\\Juxtafoveal Telangiectasis DM Diabetes\\8.jpg\n",
      "output/train\\Juxtafoveal Telangiectasis DM Diabetes\\9.jpg\n",
      "Leber's Stellate Maculopathy\n",
      "output/train\\Leber's Stellate Maculopathy\\2.jpg\n",
      "output/train\\Leber's Stellate Maculopathy\\3.jpg\n",
      "output/train\\Leber's Stellate Maculopathy\\4.jpg\n",
      "output/train\\Leber's Stellate Maculopathy\\5.jpg\n",
      "output/train\\Leber's Stellate Maculopathy\\6.jpg\n",
      "output/train\\Leber's Stellate Maculopathy\\7.jpg\n",
      "output/train\\Leber's Stellate Maculopathy\\8.jpg\n",
      "output/train\\Leber's Stellate Maculopathy\\9.jpg\n",
      "Macular Dystrophy\n",
      "output/train\\Macular Dystrophy\\2.jpg\n",
      "output/train\\Macular Dystrophy\\3.jpg\n",
      "output/train\\Macular Dystrophy\\4.jpg\n",
      "output/train\\Macular Dystrophy\\5.jpg\n",
      "output/train\\Macular Dystrophy\\6.jpg\n",
      "output/train\\Macular Dystrophy\\7.jpg\n",
      "output/train\\Macular Dystrophy\\8.jpg\n",
      "output/train\\Macular Dystrophy\\9.jpg\n",
      "Multifocal Exudative Detachments Due to VKH\n",
      "output/train\\Multifocal Exudative Detachments Due to VKH\\2.jpg\n",
      "output/train\\Multifocal Exudative Detachments Due to VKH\\3.jpg\n",
      "output/train\\Multifocal Exudative Detachments Due to VKH\\4.jpg\n",
      "output/train\\Multifocal Exudative Detachments Due to VKH\\5.jpg\n",
      "output/train\\Multifocal Exudative Detachments Due to VKH\\6.jpg\n",
      "output/train\\Multifocal Exudative Detachments Due to VKH\\7.jpg\n",
      "output/train\\Multifocal Exudative Detachments Due to VKH\\8.jpg\n",
      "output/train\\Multifocal Exudative Detachments Due to VKH\\9.jpg\n",
      "Myelinated Nerve Fibers\n",
      "output/train\\Myelinated Nerve Fibers\\2.jpg\n",
      "output/train\\Myelinated Nerve Fibers\\3.jpg\n",
      "output/train\\Myelinated Nerve Fibers\\4.jpg\n",
      "output/train\\Myelinated Nerve Fibers\\5.jpg\n",
      "output/train\\Myelinated Nerve Fibers\\6.jpg\n",
      "output/train\\Myelinated Nerve Fibers\\7.jpg\n",
      "output/train\\Myelinated Nerve Fibers\\8.jpg\n",
      "output/train\\Myelinated Nerve Fibers\\9.jpg\n",
      "North Carolina Dystrophy\n",
      "output/train\\North Carolina Dystrophy\\2.jpg\n",
      "output/train\\North Carolina Dystrophy\\3.jpg\n",
      "output/train\\North Carolina Dystrophy\\4.jpg\n",
      "output/train\\North Carolina Dystrophy\\5.jpg\n",
      "output/train\\North Carolina Dystrophy\\6.jpg\n"
     ]
    },
    {
     "name": "stdout",
     "output_type": "stream",
     "text": [
      "output/train\\North Carolina Dystrophy\\7.jpg\n",
      "output/train\\North Carolina Dystrophy\\8.jpg\n",
      "output/train\\North Carolina Dystrophy\\9.jpg\n",
      "Optic Disc Drusen\n",
      "output/train\\Optic Disc Drusen\\3.jpg\n",
      "output/train\\Optic Disc Drusen\\4.jpg\n",
      "output/train\\Optic Disc Drusen\\5.jpg\n",
      "output/train\\Optic Disc Drusen\\6.jpg\n",
      "output/train\\Optic Disc Drusen\\7.jpg\n",
      "output/train\\Optic Disc Drusen\\8.jpg\n",
      "Pattern Dystrophy Simulating Fundus Flavimaculatus\n",
      "output/train\\Pattern Dystrophy Simulating Fundus Flavimaculatus\\2.jpg\n",
      "output/train\\Pattern Dystrophy Simulating Fundus Flavimaculatus\\7.jpg\n",
      "output/train\\Pattern Dystrophy Simulating Fundus Flavimaculatus\\8.jpg\n",
      "Reticular Pattern Dystrophy\n",
      "output/train\\Reticular Pattern Dystrophy\\2.jpg\n",
      "output/train\\Reticular Pattern Dystrophy\\3.jpg\n",
      "output/train\\Reticular Pattern Dystrophy\\4.jpg\n",
      "output/train\\Reticular Pattern Dystrophy\\5.jpg\n",
      "output/train\\Reticular Pattern Dystrophy\\6.jpg\n",
      "output/train\\Reticular Pattern Dystrophy\\7.jpg\n",
      "output/train\\Reticular Pattern Dystrophy\\8.jpg\n",
      "output/train\\Reticular Pattern Dystrophy\\9.jpg\n",
      "Retinal Folds Following Retinal Reattachment Surgery\n",
      "output/train\\Retinal Folds Following Retinal Reattachment Surgery\\2.jpg\n",
      "output/train\\Retinal Folds Following Retinal Reattachment Surgery\\3.jpg\n",
      "output/train\\Retinal Folds Following Retinal Reattachment Surgery\\4.jpg\n",
      "output/train\\Retinal Folds Following Retinal Reattachment Surgery\\5.jpg\n",
      "output/train\\Retinal Folds Following Retinal Reattachment Surgery\\6.jpg\n",
      "output/train\\Retinal Folds Following Retinal Reattachment Surgery\\7.jpg\n",
      "output/train\\Retinal Folds Following Retinal Reattachment Surgery\\8.jpg\n",
      "output/train\\Retinal Folds Following Retinal Reattachment Surgery\\9.jpg\n",
      "Retrohyaloid Hemorrhage\n",
      "output/train\\Retrohyaloid Hemorrhage\\2.jpg\n",
      "output/train\\Retrohyaloid Hemorrhage\\3.jpg\n",
      "output/train\\Retrohyaloid Hemorrhage\\4.jpg\n",
      "output/train\\Retrohyaloid Hemorrhage\\5.jpg\n",
      "output/train\\Retrohyaloid Hemorrhage\\6.jpg\n",
      "output/train\\Retrohyaloid Hemorrhage\\7.jpg\n",
      "output/train\\Retrohyaloid Hemorrhage\\8.jpg\n",
      "output/train\\Retrohyaloid Hemorrhage\\9.jpg\n",
      "Roth Spot\n",
      "output/train\\Roth Spot\\2.jpg\n",
      "output/train\\Roth Spot\\3.jpg\n",
      "output/train\\Roth Spot\\4.jpg\n",
      "output/train\\Roth Spot\\5.jpg\n",
      "output/train\\Roth Spot\\6.jpg\n",
      "output/train\\Roth Spot\\7.jpg\n",
      "output/train\\Roth Spot\\8.jpg\n",
      "output/train\\Roth Spot\\9.jpg\n",
      "Self-Applied Retinal Detachment\n",
      "output/train\\Self-Applied Retinal Detachment\\2.jpg\n",
      "output/train\\Self-Applied Retinal Detachment\\3.jpg\n",
      "output/train\\Self-Applied Retinal Detachment\\4.jpg\n",
      "output/train\\Self-Applied Retinal Detachment\\5.jpg\n",
      "output/train\\Self-Applied Retinal Detachment\\6.jpg\n",
      "output/train\\Self-Applied Retinal Detachment\\7.jpg\n",
      "output/train\\Self-Applied Retinal Detachment\\8.jpg\n",
      "output/train\\Self-Applied Retinal Detachment\\9.jpg\n",
      "Solar Retinopathy Familial\n",
      "output/train\\Solar Retinopathy Familial\\2.jpg\n",
      "output/train\\Solar Retinopathy Familial\\3.jpg\n",
      "output/train\\Solar Retinopathy Familial\\4.jpg\n",
      "output/train\\Solar Retinopathy Familial\\5.jpg\n",
      "output/train\\Solar Retinopathy Familial\\6.jpg\n",
      "output/train\\Solar Retinopathy Familial\\7.jpg\n",
      "output/train\\Solar Retinopathy Familial\\8.jpg\n",
      "output/train\\Solar Retinopathy Familial\\9.jpg\n",
      "Susac's Syndrome\n",
      "output/train\\Susac's Syndrome\\2.jpg\n",
      "output/train\\Susac's Syndrome\\3.jpg\n",
      "output/train\\Susac's Syndrome\\4.jpg\n",
      "output/train\\Susac's Syndrome\\5.jpg\n",
      "output/train\\Susac's Syndrome\\6.jpg\n",
      "output/train\\Susac's Syndrome\\7.jpg\n",
      "output/train\\Susac's Syndrome\\8.jpg\n",
      "output/train\\Susac's Syndrome\\9.jpg\n",
      "Terson's Syndrome\n",
      "output/train\\Terson's Syndrome\\2.jpg\n",
      "output/train\\Terson's Syndrome\\3.jpg\n",
      "output/train\\Terson's Syndrome\\4.jpg\n",
      "output/train\\Terson's Syndrome\\5.jpg\n",
      "output/train\\Terson's Syndrome\\6.jpg\n",
      "output/train\\Terson's Syndrome\\7.jpg\n",
      "output/train\\Terson's Syndrome\\8.jpg\n",
      "output/train\\Terson's Syndrome\\9.jpg\n",
      "Wyburn-Mason Syndrome\n",
      "output/train\\Wyburn-Mason Syndrome\\2.jpg\n",
      "output/train\\Wyburn-Mason Syndrome\\3.jpg\n",
      "output/train\\Wyburn-Mason Syndrome\\4.jpg\n",
      "output/train\\Wyburn-Mason Syndrome\\5.jpg\n",
      "output/train\\Wyburn-Mason Syndrome\\6.jpg\n",
      "output/train\\Wyburn-Mason Syndrome\\7.jpg\n",
      "output/train\\Wyburn-Mason Syndrome\\8.jpg\n",
      "output/train\\Wyburn-Mason Syndrome\\9.jpg\n"
     ]
    }
   ],
   "source": [
    "for directory_path in glob.glob(\"output/train/*\"):\n",
    "    label = directory_path.split(\"\\\\\")[-1]\n",
    "    print(label)\n",
    "    for img_path in glob.glob(os.path.join(directory_path, \"*.jpg\")):\n",
    "        print(img_path)\n",
    "        img = cv2.imread(img_path, cv2.IMREAD_COLOR)       \n",
    "        img = cv2.resize(img, (SIZE, SIZE))\n",
    "        img = cv2.cvtColor(img, cv2.COLOR_RGB2BGR)\n",
    "        train_images.append(img)\n",
    "        train_labels.append(label)"
   ]
  },
  {
   "cell_type": "code",
   "execution_count": 10,
   "metadata": {},
   "outputs": [],
   "source": [
    "#Convert lists to arrays        \n",
    "train_images = np.array(train_images)\n",
    "train_labels = np.array(train_labels)"
   ]
  },
  {
   "cell_type": "code",
   "execution_count": 11,
   "metadata": {},
   "outputs": [],
   "source": [
    "# Capture test/validation data and labels into respective lists\n",
    "\n",
    "test_images = []\n",
    "test_labels = [] \n",
    "for directory_path in glob.glob(\"output/train/*\"):\n",
    "    fruit_label = directory_path.split(\"\\\\\")[-1]\n",
    "    for img_path in glob.glob(os.path.join(directory_path, \"*.jpg\")):\n",
    "        img = cv2.imread(img_path, cv2.IMREAD_COLOR)\n",
    "        img = cv2.resize(img, (SIZE, SIZE))\n",
    "        img = cv2.cvtColor(img, cv2.COLOR_RGB2BGR)\n",
    "        test_images.append(img)\n",
    "        test_labels.append(fruit_label)"
   ]
  },
  {
   "cell_type": "code",
   "execution_count": 12,
   "metadata": {},
   "outputs": [],
   "source": [
    "#Convert lists to arrays                \n",
    "test_images = np.array(test_images)\n",
    "test_labels = np.array(test_labels)"
   ]
  },
  {
   "cell_type": "code",
   "execution_count": 13,
   "metadata": {},
   "outputs": [],
   "source": [
    "#Encode labels from text to integers.\n",
    "from sklearn import preprocessing\n",
    "le = preprocessing.LabelEncoder()\n",
    "le.fit(test_labels)\n",
    "test_labels_encoded = le.transform(test_labels)\n",
    "le.fit(train_labels)\n",
    "train_labels_encoded = le.transform(train_labels)"
   ]
  },
  {
   "cell_type": "code",
   "execution_count": 14,
   "metadata": {},
   "outputs": [],
   "source": [
    "#Split data into test and train datasets (already split but assigning to meaningful convention)\n",
    "x_train, y_train, x_test, y_test = train_images, train_labels_encoded, test_images, test_labels_encoded\n",
    "\n",
    "###################################################################\n",
    "# Normalize pixel values to between 0 and 1\n",
    "x_train, x_test = x_train / 255.0, x_test / 255.0\n"
   ]
  },
  {
   "cell_type": "code",
   "execution_count": 15,
   "metadata": {},
   "outputs": [],
   "source": [
    "#One hot encode y values for neural network. \n",
    "from tensorflow.keras.utils import to_categorical\n",
    "y_train_one_hot = to_categorical(y_train)\n",
    "y_test_one_hot = to_categorical(y_test)"
   ]
  },
  {
   "cell_type": "code",
   "execution_count": 16,
   "metadata": {},
   "outputs": [],
   "source": [
    "ML_Model = []\n",
    "accuracy = []\n",
    "precision = []\n",
    "recall = []\n",
    "f1score = []\n",
    "\n",
    "#function to call for storing the results\n",
    "def storeResults(model, a,b,c,d):\n",
    "    ML_Model.append(model)\n",
    "    accuracy.append(round(a, 3))\n",
    "    precision.append(round(b, 3))\n",
    "    recall.append(round(c, 3))\n",
    "    f1score.append(round(d, 3))\n"
   ]
  },
  {
   "cell_type": "markdown",
   "metadata": {},
   "source": [
    "# CNN"
   ]
  },
  {
   "cell_type": "code",
   "execution_count": 17,
   "metadata": {},
   "outputs": [
    {
     "name": "stdout",
     "output_type": "stream",
     "text": [
      "Model: \"sequential\"\n",
      "_________________________________________________________________\n",
      "Layer (type)                 Output Shape              Param #   \n",
      "=================================================================\n",
      "conv2d (Conv2D)              (None, 128, 128, 32)      896       \n",
      "_________________________________________________________________\n",
      "max_pooling2d (MaxPooling2D) (None, 64, 64, 32)        0         \n",
      "_________________________________________________________________\n",
      "conv2d_1 (Conv2D)            (None, 64, 64, 64)        18496     \n",
      "_________________________________________________________________\n",
      "max_pooling2d_1 (MaxPooling2 (None, 32, 32, 64)        0         \n",
      "_________________________________________________________________\n",
      "flatten (Flatten)            (None, 65536)             0         \n",
      "_________________________________________________________________\n",
      "dense (Dense)                (None, 128)               8388736   \n",
      "_________________________________________________________________\n",
      "dropout (Dropout)            (None, 128)               0         \n",
      "_________________________________________________________________\n",
      "dense_1 (Dense)              (None, 128)               16512     \n",
      "_________________________________________________________________\n",
      "dense_2 (Dense)              (None, 32)                4128      \n",
      "=================================================================\n",
      "Total params: 8,428,768\n",
      "Trainable params: 8,428,768\n",
      "Non-trainable params: 0\n",
      "_________________________________________________________________\n"
     ]
    }
   ],
   "source": [
    "# Build a custom sequential CNN model\n",
    "\n",
    "model = Sequential() # model object\n",
    "\n",
    "# Add Layers\n",
    "model.add(Conv2D(filters=32, kernel_size=3, strides=1, padding='same', activation='relu', input_shape=[128, 128, 3]))\n",
    "model.add(MaxPooling2D(2, ))\n",
    "model.add(Conv2D(filters=64, kernel_size=3, strides=1, padding='same', activation='relu'))\n",
    "model.add(MaxPooling2D(2))\n",
    "\n",
    "# Flatten the feature map\n",
    "model.add(Flatten())\n",
    "\n",
    "# Add the fully connected layers\n",
    "model.add(Dense(128, activation='relu'))\n",
    "model.add(Dropout(0.25))\n",
    "model.add(Dense(128, activation='relu'))\n",
    "model.add(Dense(32, activation='softmax'))\n",
    "\n",
    "# print the model summary\n",
    "model.summary()\n"
   ]
  },
  {
   "cell_type": "code",
   "execution_count": 18,
   "metadata": {},
   "outputs": [
    {
     "name": "stdout",
     "output_type": "stream",
     "text": [
      "Epoch 1/50\n",
      "128/128 [==============================] - 17s 54ms/step - loss: 3.6436 - accuracy: 0.0573 - f1_m: 0.0000e+00 - precision_m: 0.0000e+00 - recall_m: 0.0000e+00 - val_loss: 2.6462 - val_accuracy: 0.3945 - val_f1_m: 0.0365 - val_precision_m: 0.0547 - val_recall_m: 0.0273\n",
      "Epoch 2/50\n",
      "128/128 [==============================] - 6s 49ms/step - loss: 2.4929 - accuracy: 0.3767 - f1_m: 0.0894 - precision_m: 0.1273 - recall_m: 0.0704 - val_loss: 1.4341 - val_accuracy: 0.6367 - val_f1_m: 0.3828 - val_precision_m: 0.5156 - val_recall_m: 0.3164\n",
      "Epoch 3/50\n",
      "128/128 [==============================] - 6s 50ms/step - loss: 1.7691 - accuracy: 0.4906 - f1_m: 0.3230 - precision_m: 0.4106 - recall_m: 0.2792 - val_loss: 1.0523 - val_accuracy: 0.7617 - val_f1_m: 0.4401 - val_precision_m: 0.5312 - val_recall_m: 0.3945\n",
      "Epoch 4/50\n",
      "128/128 [==============================] - 6s 50ms/step - loss: 1.1971 - accuracy: 0.6160 - f1_m: 0.5001 - precision_m: 0.6091 - recall_m: 0.4457 - val_loss: 0.8199 - val_accuracy: 0.7852 - val_f1_m: 0.6471 - val_precision_m: 0.7461 - val_recall_m: 0.5977\n",
      "Epoch 5/50\n",
      "128/128 [==============================] - 6s 50ms/step - loss: 0.9676 - accuracy: 0.6946 - f1_m: 0.6031 - precision_m: 0.7101 - recall_m: 0.5496 - val_loss: 0.4473 - val_accuracy: 0.8672 - val_f1_m: 0.8685 - val_precision_m: 0.9336 - val_recall_m: 0.8359\n",
      "Epoch 6/50\n",
      "128/128 [==============================] - 6s 49ms/step - loss: 0.7034 - accuracy: 0.8010 - f1_m: 0.7421 - precision_m: 0.8261 - recall_m: 0.7001 - val_loss: 0.3370 - val_accuracy: 0.9062 - val_f1_m: 0.8750 - val_precision_m: 0.9062 - val_recall_m: 0.8594\n",
      "Epoch 7/50\n",
      "128/128 [==============================] - 6s 49ms/step - loss: 0.5107 - accuracy: 0.8346 - f1_m: 0.8315 - precision_m: 0.8841 - recall_m: 0.8051 - val_loss: 0.3160 - val_accuracy: 0.8945 - val_f1_m: 0.8789 - val_precision_m: 0.9414 - val_recall_m: 0.8477\n",
      "Epoch 8/50\n",
      "128/128 [==============================] - 6s 50ms/step - loss: 0.4789 - accuracy: 0.8306 - f1_m: 0.8266 - precision_m: 0.8966 - recall_m: 0.7916 - val_loss: 0.1989 - val_accuracy: 0.9492 - val_f1_m: 0.9297 - val_precision_m: 0.9688 - val_recall_m: 0.9102\n",
      "Epoch 9/50\n",
      "128/128 [==============================] - 6s 49ms/step - loss: 0.3614 - accuracy: 0.8518 - f1_m: 0.8532 - precision_m: 0.9026 - recall_m: 0.8285 - val_loss: 0.2672 - val_accuracy: 0.9375 - val_f1_m: 0.9036 - val_precision_m: 0.9453 - val_recall_m: 0.8828\n",
      "Epoch 10/50\n",
      "128/128 [==============================] - 6s 49ms/step - loss: 0.4724 - accuracy: 0.8430 - f1_m: 0.8462 - precision_m: 0.9064 - recall_m: 0.8162 - val_loss: 0.2123 - val_accuracy: 0.9180 - val_f1_m: 0.9180 - val_precision_m: 0.9492 - val_recall_m: 0.9023\n",
      "Epoch 11/50\n",
      "128/128 [==============================] - 6s 49ms/step - loss: 0.4911 - accuracy: 0.8732 - f1_m: 0.8642 - precision_m: 0.9043 - recall_m: 0.8442 - val_loss: 0.1239 - val_accuracy: 0.9727 - val_f1_m: 0.9622 - val_precision_m: 0.9805 - val_recall_m: 0.9531\n",
      "Epoch 12/50\n",
      "128/128 [==============================] - 6s 49ms/step - loss: 0.3081 - accuracy: 0.8794 - f1_m: 0.8718 - precision_m: 0.9032 - recall_m: 0.8561 - val_loss: 0.0847 - val_accuracy: 0.9688 - val_f1_m: 0.9674 - val_precision_m: 0.9805 - val_recall_m: 0.9609\n",
      "Epoch 13/50\n",
      "128/128 [==============================] - 6s 49ms/step - loss: 0.1967 - accuracy: 0.9373 - f1_m: 0.9317 - precision_m: 0.9441 - recall_m: 0.9256 - val_loss: 0.2866 - val_accuracy: 0.8945 - val_f1_m: 0.8841 - val_precision_m: 0.9023 - val_recall_m: 0.8750\n",
      "Epoch 14/50\n",
      "128/128 [==============================] - 6s 49ms/step - loss: 0.4432 - accuracy: 0.8665 - f1_m: 0.8703 - precision_m: 0.8915 - recall_m: 0.8597 - val_loss: 0.1553 - val_accuracy: 0.9375 - val_f1_m: 0.9310 - val_precision_m: 0.9570 - val_recall_m: 0.9180\n",
      "Epoch 15/50\n",
      "128/128 [==============================] - 6s 49ms/step - loss: 0.3569 - accuracy: 0.8597 - f1_m: 0.8650 - precision_m: 0.8952 - recall_m: 0.8499 - val_loss: 0.1522 - val_accuracy: 0.9453 - val_f1_m: 0.9453 - val_precision_m: 0.9609 - val_recall_m: 0.9375\n",
      "Epoch 16/50\n",
      "128/128 [==============================] - 6s 49ms/step - loss: 0.1458 - accuracy: 0.9479 - f1_m: 0.9391 - precision_m: 0.9572 - recall_m: 0.9300 - val_loss: 0.0640 - val_accuracy: 0.9844 - val_f1_m: 0.9779 - val_precision_m: 0.9883 - val_recall_m: 0.9727\n",
      "Epoch 17/50\n",
      "128/128 [==============================] - 6s 50ms/step - loss: 0.1462 - accuracy: 0.9392 - f1_m: 0.9384 - precision_m: 0.9495 - recall_m: 0.9328 - val_loss: 0.0603 - val_accuracy: 0.9844 - val_f1_m: 0.9753 - val_precision_m: 0.9883 - val_recall_m: 0.9688\n",
      "Epoch 18/50\n",
      "128/128 [==============================] - 6s 49ms/step - loss: 0.3203 - accuracy: 0.9093 - f1_m: 0.9053 - precision_m: 0.9318 - recall_m: 0.8920 - val_loss: 0.4367 - val_accuracy: 0.8594 - val_f1_m: 0.8477 - val_precision_m: 0.9180 - val_recall_m: 0.8125\n",
      "Epoch 19/50\n",
      "128/128 [==============================] - 6s 49ms/step - loss: 0.4952 - accuracy: 0.8836 - f1_m: 0.8514 - precision_m: 0.9043 - recall_m: 0.8249 - val_loss: 0.0938 - val_accuracy: 0.9688 - val_f1_m: 0.9688 - val_precision_m: 0.9766 - val_recall_m: 0.9648\n",
      "Epoch 20/50\n",
      "128/128 [==============================] - 6s 49ms/step - loss: 0.2955 - accuracy: 0.9214 - f1_m: 0.8861 - precision_m: 0.8999 - recall_m: 0.8792 - val_loss: 0.1084 - val_accuracy: 0.9688 - val_f1_m: 0.9596 - val_precision_m: 0.9727 - val_recall_m: 0.9531\n",
      "Epoch 21/50\n",
      "128/128 [==============================] - 6s 49ms/step - loss: 0.1830 - accuracy: 0.9446 - f1_m: 0.9445 - precision_m: 0.9683 - recall_m: 0.9327 - val_loss: 0.0460 - val_accuracy: 0.9883 - val_f1_m: 0.9870 - val_precision_m: 0.9922 - val_recall_m: 0.9844\n",
      "Epoch 22/50\n",
      "128/128 [==============================] - 6s 49ms/step - loss: 0.1980 - accuracy: 0.9302 - f1_m: 0.9240 - precision_m: 0.9355 - recall_m: 0.9182 - val_loss: 0.0722 - val_accuracy: 0.9766 - val_f1_m: 0.9766 - val_precision_m: 0.9766 - val_recall_m: 0.9766\n",
      "Epoch 23/50\n",
      "128/128 [==============================] - 6s 50ms/step - loss: 0.2520 - accuracy: 0.9395 - f1_m: 0.9418 - precision_m: 0.9524 - recall_m: 0.9365 - val_loss: 0.0250 - val_accuracy: 1.0000 - val_f1_m: 1.0000 - val_precision_m: 1.0000 - val_recall_m: 1.0000\n",
      "Epoch 24/50\n",
      "128/128 [==============================] - 6s 49ms/step - loss: 0.0780 - accuracy: 0.9878 - f1_m: 0.9751 - precision_m: 0.9882 - recall_m: 0.9685 - val_loss: 0.1429 - val_accuracy: 0.9609 - val_f1_m: 0.9518 - val_precision_m: 0.9648 - val_recall_m: 0.9453\n",
      "Epoch 25/50\n",
      "128/128 [==============================] - 6s 49ms/step - loss: 0.2179 - accuracy: 0.9508 - f1_m: 0.9466 - precision_m: 0.9508 - recall_m: 0.9445 - val_loss: 0.0910 - val_accuracy: 0.9844 - val_f1_m: 0.9844 - val_precision_m: 0.9844 - val_recall_m: 0.9844\n",
      "Epoch 26/50\n",
      "128/128 [==============================] - 6s 49ms/step - loss: 0.2485 - accuracy: 0.9283 - f1_m: 0.9202 - precision_m: 0.9305 - recall_m: 0.9151 - val_loss: 0.0413 - val_accuracy: 0.9922 - val_f1_m: 0.9909 - val_precision_m: 0.9961 - val_recall_m: 0.9883\n",
      "Epoch 27/50\n",
      "128/128 [==============================] - 6s 49ms/step - loss: 0.1465 - accuracy: 0.9544 - f1_m: 0.9509 - precision_m: 0.9693 - recall_m: 0.9417 - val_loss: 0.0548 - val_accuracy: 0.9766 - val_f1_m: 0.9727 - val_precision_m: 0.9805 - val_recall_m: 0.9688\n",
      "Epoch 28/50\n",
      "128/128 [==============================] - 6s 49ms/step - loss: 0.1114 - accuracy: 0.9643 - f1_m: 0.9666 - precision_m: 0.9711 - recall_m: 0.9643 - val_loss: 0.0375 - val_accuracy: 0.9883 - val_f1_m: 0.9831 - val_precision_m: 0.9883 - val_recall_m: 0.9805\n",
      "Epoch 29/50\n",
      "128/128 [==============================] - 6s 49ms/step - loss: 0.0831 - accuracy: 0.9633 - f1_m: 0.9586 - precision_m: 0.9633 - recall_m: 0.9563 - val_loss: 0.0071 - val_accuracy: 1.0000 - val_f1_m: 1.0000 - val_precision_m: 1.0000 - val_recall_m: 1.0000\n",
      "Epoch 30/50\n",
      "128/128 [==============================] - 6s 49ms/step - loss: 0.0201 - accuracy: 0.9988 - f1_m: 0.9988 - precision_m: 0.9988 - recall_m: 0.9988 - val_loss: 0.0438 - val_accuracy: 0.9727 - val_f1_m: 0.9727 - val_precision_m: 0.9727 - val_recall_m: 0.9727\n",
      "Epoch 31/50\n",
      "128/128 [==============================] - 6s 49ms/step - loss: 0.0923 - accuracy: 0.9878 - f1_m: 0.9878 - precision_m: 0.9878 - recall_m: 0.9878 - val_loss: 0.0085 - val_accuracy: 1.0000 - val_f1_m: 1.0000 - val_precision_m: 1.0000 - val_recall_m: 1.0000\n",
      "Epoch 32/50\n",
      "128/128 [==============================] - 6s 49ms/step - loss: 0.0440 - accuracy: 0.9859 - f1_m: 0.9859 - precision_m: 0.9859 - recall_m: 0.9859 - val_loss: 0.0145 - val_accuracy: 1.0000 - val_f1_m: 1.0000 - val_precision_m: 1.0000 - val_recall_m: 1.0000\n",
      "Epoch 33/50\n",
      "128/128 [==============================] - 6s 49ms/step - loss: 0.1435 - accuracy: 0.9581 - f1_m: 0.9546 - precision_m: 0.9598 - recall_m: 0.9520 - val_loss: 0.1951 - val_accuracy: 0.9648 - val_f1_m: 0.9648 - val_precision_m: 0.9648 - val_recall_m: 0.9648\n",
      "Epoch 34/50\n",
      "128/128 [==============================] - 6s 49ms/step - loss: 0.2971 - accuracy: 0.9164 - f1_m: 0.9170 - precision_m: 0.9401 - recall_m: 0.9055 - val_loss: 0.0265 - val_accuracy: 0.9883 - val_f1_m: 0.9883 - val_precision_m: 0.9883 - val_recall_m: 0.9883\n",
      "Epoch 35/50\n",
      "128/128 [==============================] - 6s 49ms/step - loss: 0.0713 - accuracy: 0.9744 - f1_m: 0.9744 - precision_m: 0.9744 - recall_m: 0.9744 - val_loss: 0.0108 - val_accuracy: 1.0000 - val_f1_m: 1.0000 - val_precision_m: 1.0000 - val_recall_m: 1.0000\n",
      "Epoch 36/50\n",
      "128/128 [==============================] - 6s 49ms/step - loss: 0.0865 - accuracy: 0.9689 - f1_m: 0.9677 - precision_m: 0.9710 - recall_m: 0.9661 - val_loss: 0.0621 - val_accuracy: 0.9766 - val_f1_m: 0.9766 - val_precision_m: 0.9766 - val_recall_m: 0.9766\n",
      "Epoch 37/50\n",
      "128/128 [==============================] - 6s 49ms/step - loss: 0.1725 - accuracy: 0.9306 - f1_m: 0.9265 - precision_m: 0.9365 - recall_m: 0.9215 - val_loss: 0.0390 - val_accuracy: 0.9883 - val_f1_m: 0.9883 - val_precision_m: 0.9883 - val_recall_m: 0.9883\n",
      "Epoch 38/50\n",
      "128/128 [==============================] - 6s 49ms/step - loss: 0.1393 - accuracy: 0.9708 - f1_m: 0.9635 - precision_m: 0.9708 - recall_m: 0.9598 - val_loss: 0.0513 - val_accuracy: 0.9766 - val_f1_m: 0.9740 - val_precision_m: 0.9766 - val_recall_m: 0.9727\n",
      "Epoch 39/50\n",
      "128/128 [==============================] - 6s 49ms/step - loss: 0.2052 - accuracy: 0.9351 - f1_m: 0.9353 - precision_m: 0.9461 - recall_m: 0.9300 - val_loss: 0.1365 - val_accuracy: 0.9727 - val_f1_m: 0.9727 - val_precision_m: 0.9727 - val_recall_m: 0.9727\n",
      "Epoch 40/50\n",
      "128/128 [==============================] - 6s 49ms/step - loss: 0.2931 - accuracy: 0.9275 - f1_m: 0.9218 - precision_m: 0.9287 - recall_m: 0.9184 - val_loss: 0.0424 - val_accuracy: 0.9922 - val_f1_m: 0.9935 - val_precision_m: 0.9961 - val_recall_m: 0.9922\n",
      "Epoch 41/50\n",
      "128/128 [==============================] - 6s 49ms/step - loss: 0.1340 - accuracy: 0.9670 - f1_m: 0.9637 - precision_m: 0.9717 - recall_m: 0.9597 - val_loss: 0.0421 - val_accuracy: 0.9883 - val_f1_m: 0.9883 - val_precision_m: 0.9883 - val_recall_m: 0.9883\n",
      "Epoch 42/50\n",
      "128/128 [==============================] - 6s 49ms/step - loss: 0.1680 - accuracy: 0.9587 - f1_m: 0.9543 - precision_m: 0.9587 - recall_m: 0.9521 - val_loss: 0.0448 - val_accuracy: 0.9883 - val_f1_m: 0.9857 - val_precision_m: 0.9883 - val_recall_m: 0.9844\n",
      "Epoch 43/50\n",
      "128/128 [==============================] - 6s 50ms/step - loss: 0.2215 - accuracy: 0.9388 - f1_m: 0.9394 - precision_m: 0.9405 - recall_m: 0.9388 - val_loss: 0.0211 - val_accuracy: 0.9961 - val_f1_m: 0.9961 - val_precision_m: 0.9961 - val_recall_m: 0.9961\n",
      "Epoch 44/50\n",
      "128/128 [==============================] - 6s 51ms/step - loss: 0.0346 - accuracy: 0.9875 - f1_m: 0.9888 - precision_m: 0.9912 - recall_m: 0.9875 - val_loss: 0.0055 - val_accuracy: 1.0000 - val_f1_m: 1.0000 - val_precision_m: 1.0000 - val_recall_m: 1.0000\n",
      "Epoch 45/50\n",
      "128/128 [==============================] - 7s 51ms/step - loss: 0.0284 - accuracy: 0.9866 - f1_m: 0.9877 - precision_m: 0.9898 - recall_m: 0.9866 - val_loss: 0.0120 - val_accuracy: 0.9961 - val_f1_m: 0.9961 - val_precision_m: 0.9961 - val_recall_m: 0.9961\n",
      "Epoch 46/50\n",
      "128/128 [==============================] - 10s 75ms/step - loss: 0.1262 - accuracy: 0.9527 - f1_m: 0.9527 - precision_m: 0.9527 - recall_m: 0.9527 - val_loss: 0.0022 - val_accuracy: 1.0000 - val_f1_m: 1.0000 - val_precision_m: 1.0000 - val_recall_m: 1.0000\n",
      "Epoch 47/50\n",
      "128/128 [==============================] - 7s 51ms/step - loss: 0.0552 - accuracy: 0.9864 - f1_m: 0.9864 - precision_m: 0.9864 - recall_m: 0.9864 - val_loss: 0.0060 - val_accuracy: 1.0000 - val_f1_m: 1.0000 - val_precision_m: 1.0000 - val_recall_m: 1.0000\n",
      "Epoch 48/50\n",
      "128/128 [==============================] - 7s 51ms/step - loss: 0.0601 - accuracy: 0.9703 - f1_m: 0.9741 - precision_m: 0.9825 - recall_m: 0.9699 - val_loss: 0.0069 - val_accuracy: 1.0000 - val_f1_m: 1.0000 - val_precision_m: 1.0000 - val_recall_m: 1.0000\n",
      "Epoch 49/50\n",
      "128/128 [==============================] - 7s 51ms/step - loss: 0.0327 - accuracy: 0.9875 - f1_m: 0.9868 - precision_m: 0.9904 - recall_m: 0.9850 - val_loss: 0.0049 - val_accuracy: 1.0000 - val_f1_m: 1.0000 - val_precision_m: 1.0000 - val_recall_m: 1.0000\n",
      "Epoch 50/50\n",
      "128/128 [==============================] - 7s 52ms/step - loss: 0.1711 - accuracy: 0.9485 - f1_m: 0.9483 - precision_m: 0.9509 - recall_m: 0.9470 - val_loss: 0.0791 - val_accuracy: 0.9805 - val_f1_m: 0.9805 - val_precision_m: 0.9805 - val_recall_m: 0.9805\n"
     ]
    }
   ],
   "source": [
    "# Compile and fit the model\n",
    "early_stopping = keras.callbacks.EarlyStopping(patience=5) # Set up callbacks\n",
    "model.compile(optimizer='Adam', loss='categorical_crossentropy', metrics=['accuracy',f1_m,precision_m, recall_m])\n",
    "hist = model.fit(train_image_generator, \n",
    "                 epochs=50, \n",
    "                 verbose=1, \n",
    "                 validation_data=val_image_generator,  \n",
    "                 )"
   ]
  },
  {
   "cell_type": "code",
   "execution_count": 19,
   "metadata": {},
   "outputs": [],
   "source": [
    "model.save('cnn.h5')"
   ]
  },
  {
   "cell_type": "code",
   "execution_count": 20,
   "metadata": {},
   "outputs": [],
   "source": [
    "cnn_acc = hist.history[\"val_accuracy\"][16]\n",
    "cnn_prec = hist.history[\"val_precision_m\"][16]\n",
    "cnn_rec = hist.history[\"val_recall_m\"][16]\n",
    "cnn_f1 = hist.history[\"val_f1_m\"][16]"
   ]
  },
  {
   "cell_type": "code",
   "execution_count": 21,
   "metadata": {},
   "outputs": [],
   "source": [
    "storeResults('CNN',cnn_acc,cnn_prec,cnn_rec,cnn_f1)"
   ]
  },
  {
   "cell_type": "code",
   "execution_count": 22,
   "metadata": {},
   "outputs": [
    {
     "data": {
      "image/png": "[encoded data removed]",
      "text/plain": [
       "<Figure size 432x288 with 2 Axes>"
      ]
     },
     "metadata": {
      "needs_background": "light"
     },
     "output_type": "display_data"
    }
   ],
   "source": [
    "fig, (ax1, ax2) = plt.subplots(2, 1)\n",
    "ax1.plot(hist.history[\"loss\"], color=\"b\", label=\"Training loss\")\n",
    "ax1.plot(hist.history[\"val_loss\"], color=\"r\", label=\"validation loss\")\n",
    "ax1.legend()\n",
    "\n",
    "ax2.plot(hist.history[\"accuracy\"], color=\"b\", label=\"Training accuracy\")\n",
    "ax2.plot(hist.history[\"val_accuracy\"], color=\"r\", label=\"Validation accuracy\")\n",
    "ax2.legend()\n",
    "\n",
    "legend = plt.legend(loc=\"best\")\n",
    "plt.tight_layout()\n",
    "plt.show()"
   ]
  },
  {
   "cell_type": "markdown",
   "metadata": {},
   "source": [
    "# MobileNet"
   ]
  },
  {
   "cell_type": "code",
   "execution_count": 22,
   "metadata": {},
   "outputs": [],
   "source": [
    "import cv2\n",
    "import random\n",
    "import os\n",
    "import keras\n",
    "import re\n",
    "\n",
    "import pandas as pd\n",
    "import numpy as np\n",
    "import matplotlib.pyplot as plt\n",
    "\n",
    "from sklearn.model_selection import train_test_split\n",
    "from sklearn.metrics import classification_report\n",
    "from keras.preprocessing import image\n",
    "from keras.preprocessing.image import ImageDataGenerator, DataFrameIterator\n",
    "from keras.metrics import Precision, Recall\n",
    "from keras.callbacks import EarlyStopping, ReduceLROnPlateau\n",
    "from tensorflow.keras.models import Sequential, Model\n",
    "from tensorflow.keras.layers import (\n",
    "    Dense,\n",
    "    Flatten,\n",
    "    BatchNormalization,\n",
    "    Conv2D,\n",
    "    MaxPooling2D,\n",
    "    GlobalAveragePooling2D,\n",
    "    Dropout,\n",
    "    Input,\n",
    "    Activation,\n",
    "    concatenate,\n",
    ")\n",
    "import tensorflow as tf"
   ]
  },
  {
   "cell_type": "code",
   "execution_count": 24,
   "metadata": {},
   "outputs": [],
   "source": [
    "from tensorflow.keras.applications import MobileNet\n",
    "# Resizinig all the images to (224,224)\n",
    "IMAGE_SIZE = [128,128]\n",
    "mob = MobileNet(input_shape = IMAGE_SIZE + [3], weights='imagenet', include_top=False)"
   ]
  },
  {
   "cell_type": "code",
   "execution_count": 25,
   "metadata": {},
   "outputs": [
    {
     "name": "stdout",
     "output_type": "stream",
     "text": [
      "Model: \"model\"\n",
      "_________________________________________________________________\n",
      "Layer (type)                 Output Shape              Param #   \n",
      "=================================================================\n",
      "input_1 (InputLayer)         [(None, 128, 128, 3)]     0         \n",
      "_________________________________________________________________\n",
      "conv1 (Conv2D)               (None, 64, 64, 32)        864       \n",
      "_________________________________________________________________\n",
      "conv1_bn (BatchNormalization (None, 64, 64, 32)        128       \n",
      "_________________________________________________________________\n",
      "conv1_relu (ReLU)            (None, 64, 64, 32)        0         \n",
      "_________________________________________________________________\n",
      "conv_dw_1 (DepthwiseConv2D)  (None, 64, 64, 32)        288       \n",
      "_________________________________________________________________\n",
      "conv_dw_1_bn (BatchNormaliza (None, 64, 64, 32)        128       \n",
      "_________________________________________________________________\n",
      "conv_dw_1_relu (ReLU)        (None, 64, 64, 32)        0         \n",
      "_________________________________________________________________\n",
      "conv_pw_1 (Conv2D)           (None, 64, 64, 64)        2048      \n",
      "_________________________________________________________________\n",
      "conv_pw_1_bn (BatchNormaliza (None, 64, 64, 64)        256       \n",
      "_________________________________________________________________\n",
      "conv_pw_1_relu (ReLU)        (None, 64, 64, 64)        0         \n",
      "_________________________________________________________________\n",
      "conv_pad_2 (ZeroPadding2D)   (None, 65, 65, 64)        0         \n",
      "_________________________________________________________________\n",
      "conv_dw_2 (DepthwiseConv2D)  (None, 32, 32, 64)        576       \n",
      "_________________________________________________________________\n",
      "conv_dw_2_bn (BatchNormaliza (None, 32, 32, 64)        256       \n",
      "_________________________________________________________________\n",
      "conv_dw_2_relu (ReLU)        (None, 32, 32, 64)        0         \n",
      "_________________________________________________________________\n",
      "conv_pw_2 (Conv2D)           (None, 32, 32, 128)       8192      \n",
      "_________________________________________________________________\n",
      "conv_pw_2_bn (BatchNormaliza (None, 32, 32, 128)       512       \n",
      "_________________________________________________________________\n",
      "conv_pw_2_relu (ReLU)        (None, 32, 32, 128)       0         \n",
      "_________________________________________________________________\n",
      "conv_dw_3 (DepthwiseConv2D)  (None, 32, 32, 128)       1152      \n",
      "_________________________________________________________________\n",
      "conv_dw_3_bn (BatchNormaliza (None, 32, 32, 128)       512       \n",
      "_________________________________________________________________\n",
      "conv_dw_3_relu (ReLU)        (None, 32, 32, 128)       0         \n",
      "_________________________________________________________________\n",
      "conv_pw_3 (Conv2D)           (None, 32, 32, 128)       16384     \n",
      "_________________________________________________________________\n",
      "conv_pw_3_bn (BatchNormaliza (None, 32, 32, 128)       512       \n",
      "_________________________________________________________________\n",
      "conv_pw_3_relu (ReLU)        (None, 32, 32, 128)       0         \n",
      "_________________________________________________________________\n",
      "conv_pad_4 (ZeroPadding2D)   (None, 33, 33, 128)       0         \n",
      "_________________________________________________________________\n",
      "conv_dw_4 (DepthwiseConv2D)  (None, 16, 16, 128)       1152      \n",
      "_________________________________________________________________\n",
      "conv_dw_4_bn (BatchNormaliza (None, 16, 16, 128)       512       \n",
      "_________________________________________________________________\n",
      "conv_dw_4_relu (ReLU)        (None, 16, 16, 128)       0         \n",
      "_________________________________________________________________\n",
      "conv_pw_4 (Conv2D)           (None, 16, 16, 256)       32768     \n",
      "_________________________________________________________________\n",
      "conv_pw_4_bn (BatchNormaliza (None, 16, 16, 256)       1024      \n",
      "_________________________________________________________________\n",
      "conv_pw_4_relu (ReLU)        (None, 16, 16, 256)       0         \n",
      "_________________________________________________________________\n",
      "conv_dw_5 (DepthwiseConv2D)  (None, 16, 16, 256)       2304      \n",
      "_________________________________________________________________\n",
      "conv_dw_5_bn (BatchNormaliza (None, 16, 16, 256)       1024      \n",
      "_________________________________________________________________\n",
      "conv_dw_5_relu (ReLU)        (None, 16, 16, 256)       0         \n",
      "_________________________________________________________________\n",
      "conv_pw_5 (Conv2D)           (None, 16, 16, 256)       65536     \n",
      "_________________________________________________________________\n",
      "conv_pw_5_bn (BatchNormaliza (None, 16, 16, 256)       1024      \n",
      "_________________________________________________________________\n",
      "conv_pw_5_relu (ReLU)        (None, 16, 16, 256)       0         \n",
      "_________________________________________________________________\n",
      "conv_pad_6 (ZeroPadding2D)   (None, 17, 17, 256)       0         \n",
      "_________________________________________________________________\n",
      "conv_dw_6 (DepthwiseConv2D)  (None, 8, 8, 256)         2304      \n",
      "_________________________________________________________________\n",
      "conv_dw_6_bn (BatchNormaliza (None, 8, 8, 256)         1024      \n",
      "_________________________________________________________________\n",
      "conv_dw_6_relu (ReLU)        (None, 8, 8, 256)         0         \n",
      "_________________________________________________________________\n",
      "conv_pw_6 (Conv2D)           (None, 8, 8, 512)         131072    \n",
      "_________________________________________________________________\n",
      "conv_pw_6_bn (BatchNormaliza (None, 8, 8, 512)         2048      \n",
      "_________________________________________________________________\n",
      "conv_pw_6_relu (ReLU)        (None, 8, 8, 512)         0         \n",
      "_________________________________________________________________\n",
      "conv_dw_7 (DepthwiseConv2D)  (None, 8, 8, 512)         4608      \n",
      "_________________________________________________________________\n",
      "conv_dw_7_bn (BatchNormaliza (None, 8, 8, 512)         2048      \n",
      "_________________________________________________________________\n",
      "conv_dw_7_relu (ReLU)        (None, 8, 8, 512)         0         \n",
      "_________________________________________________________________\n",
      "conv_pw_7 (Conv2D)           (None, 8, 8, 512)         262144    \n",
      "_________________________________________________________________\n",
      "conv_pw_7_bn (BatchNormaliza (None, 8, 8, 512)         2048      \n",
      "_________________________________________________________________\n",
      "conv_pw_7_relu (ReLU)        (None, 8, 8, 512)         0         \n",
      "_________________________________________________________________\n",
      "conv_dw_8 (DepthwiseConv2D)  (None, 8, 8, 512)         4608      \n",
      "_________________________________________________________________\n",
      "conv_dw_8_bn (BatchNormaliza (None, 8, 8, 512)         2048      \n",
      "_________________________________________________________________\n",
      "conv_dw_8_relu (ReLU)        (None, 8, 8, 512)         0         \n",
      "_________________________________________________________________\n",
      "conv_pw_8 (Conv2D)           (None, 8, 8, 512)         262144    \n",
      "_________________________________________________________________\n",
      "conv_pw_8_bn (BatchNormaliza (None, 8, 8, 512)         2048      \n",
      "_________________________________________________________________\n",
      "conv_pw_8_relu (ReLU)        (None, 8, 8, 512)         0         \n",
      "_________________________________________________________________\n",
      "conv_dw_9 (DepthwiseConv2D)  (None, 8, 8, 512)         4608      \n",
      "_________________________________________________________________\n",
      "conv_dw_9_bn (BatchNormaliza (None, 8, 8, 512)         2048      \n",
      "_________________________________________________________________\n",
      "conv_dw_9_relu (ReLU)        (None, 8, 8, 512)         0         \n",
      "_________________________________________________________________\n",
      "conv_pw_9 (Conv2D)           (None, 8, 8, 512)         262144    \n",
      "_________________________________________________________________\n",
      "conv_pw_9_bn (BatchNormaliza (None, 8, 8, 512)         2048      \n",
      "_________________________________________________________________\n",
      "conv_pw_9_relu (ReLU)        (None, 8, 8, 512)         0         \n",
      "_________________________________________________________________\n",
      "conv_dw_10 (DepthwiseConv2D) (None, 8, 8, 512)         4608      \n",
      "_________________________________________________________________\n",
      "conv_dw_10_bn (BatchNormaliz (None, 8, 8, 512)         2048      \n",
      "_________________________________________________________________\n",
      "conv_dw_10_relu (ReLU)       (None, 8, 8, 512)         0         \n",
      "_________________________________________________________________\n",
      "conv_pw_10 (Conv2D)          (None, 8, 8, 512)         262144    \n",
      "_________________________________________________________________\n",
      "conv_pw_10_bn (BatchNormaliz (None, 8, 8, 512)         2048      \n",
      "_________________________________________________________________\n",
      "conv_pw_10_relu (ReLU)       (None, 8, 8, 512)         0         \n",
      "_________________________________________________________________\n",
      "conv_dw_11 (DepthwiseConv2D) (None, 8, 8, 512)         4608      \n",
      "_________________________________________________________________\n",
      "conv_dw_11_bn (BatchNormaliz (None, 8, 8, 512)         2048      \n",
      "_________________________________________________________________\n",
      "conv_dw_11_relu (ReLU)       (None, 8, 8, 512)         0         \n",
      "_________________________________________________________________\n",
      "conv_pw_11 (Conv2D)          (None, 8, 8, 512)         262144    \n",
      "_________________________________________________________________\n",
      "conv_pw_11_bn (BatchNormaliz (None, 8, 8, 512)         2048      \n",
      "_________________________________________________________________\n",
      "conv_pw_11_relu (ReLU)       (None, 8, 8, 512)         0         \n",
      "_________________________________________________________________\n",
      "conv_pad_12 (ZeroPadding2D)  (None, 9, 9, 512)         0         \n",
      "_________________________________________________________________\n",
      "conv_dw_12 (DepthwiseConv2D) (None, 4, 4, 512)         4608      \n",
      "_________________________________________________________________\n",
      "conv_dw_12_bn (BatchNormaliz (None, 4, 4, 512)         2048      \n",
      "_________________________________________________________________\n",
      "conv_dw_12_relu (ReLU)       (None, 4, 4, 512)         0         \n",
      "_________________________________________________________________\n",
      "conv_pw_12 (Conv2D)          (None, 4, 4, 1024)        524288    \n",
      "_________________________________________________________________\n",
      "conv_pw_12_bn (BatchNormaliz (None, 4, 4, 1024)        4096      \n",
      "_________________________________________________________________\n",
      "conv_pw_12_relu (ReLU)       (None, 4, 4, 1024)        0         \n",
      "_________________________________________________________________\n",
      "conv_dw_13 (DepthwiseConv2D) (None, 4, 4, 1024)        9216      \n",
      "_________________________________________________________________\n",
      "conv_dw_13_bn (BatchNormaliz (None, 4, 4, 1024)        4096      \n",
      "_________________________________________________________________\n",
      "conv_dw_13_relu (ReLU)       (None, 4, 4, 1024)        0         \n",
      "_________________________________________________________________\n",
      "conv_pw_13 (Conv2D)          (None, 4, 4, 1024)        1048576   \n",
      "_________________________________________________________________\n",
      "conv_pw_13_bn (BatchNormaliz (None, 4, 4, 1024)        4096      \n",
      "_________________________________________________________________\n",
      "conv_pw_13_relu (ReLU)       (None, 4, 4, 1024)        0         \n",
      "_________________________________________________________________\n",
      "flatten (Flatten)            (None, 16384)             0         \n",
      "_________________________________________________________________\n",
      "dense (Dense)                (None, 32)                524320    \n",
      "=================================================================\n",
      "Total params: 3,753,184\n",
      "Trainable params: 3,731,296\n",
      "Non-trainable params: 21,888\n",
      "_________________________________________________________________\n"
     ]
    }
   ],
   "source": [
    "x1= Flatten()(mob.output)\n",
    "prediction1 = Dense(32, activation='softmax')(x1)\n",
    "model12 = Model(inputs = mob.inputs, outputs = prediction1)\n",
    "model12.summary()\n",
    "model12.compile(loss = 'categorical_crossentropy', optimizer='adam', metrics=['accuracy',f1_m,precision_m, recall_m])"
   ]
  },
  {
   "cell_type": "code",
   "execution_count": 26,
   "metadata": {},
   "outputs": [
    {
     "name": "stdout",
     "output_type": "stream",
     "text": [
      "Epoch 1/50\n",
      "128/128 [==============================] - 14s 91ms/step - loss: 12.9738 - accuracy: 0.1602 - f1_m: 0.1589 - precision_m: 0.1641 - recall_m: 0.1562 - val_loss: 12.8779 - val_accuracy: 0.0977 - val_f1_m: 0.0990 - val_precision_m: 0.1016 - val_recall_m: 0.0977\n",
      "Epoch 2/50\n",
      "128/128 [==============================] - 11s 86ms/step - loss: 4.0288 - accuracy: 0.4414 - f1_m: 0.4336 - precision_m: 0.4492 - recall_m: 0.4258 - val_loss: 4.2427 - val_accuracy: 0.5664 - val_f1_m: 0.5664 - val_precision_m: 0.5898 - val_recall_m: 0.5547\n",
      "Epoch 3/50\n",
      "128/128 [==============================] - 11s 86ms/step - loss: 2.6000 - accuracy: 0.6289 - f1_m: 0.6172 - precision_m: 0.6406 - recall_m: 0.6055 - val_loss: 4.1990 - val_accuracy: 0.5781 - val_f1_m: 0.5807 - val_precision_m: 0.5938 - val_recall_m: 0.5742\n",
      "Epoch 4/50\n",
      "128/128 [==============================] - 11s 86ms/step - loss: 1.5962 - accuracy: 0.6680 - f1_m: 0.6680 - precision_m: 0.7070 - recall_m: 0.6484 - val_loss: 2.4443 - val_accuracy: 0.5938 - val_f1_m: 0.5977 - val_precision_m: 0.6133 - val_recall_m: 0.5898\n",
      "Epoch 5/50\n",
      "128/128 [==============================] - 11s 86ms/step - loss: 1.2903 - accuracy: 0.7578 - f1_m: 0.7474 - precision_m: 0.7734 - recall_m: 0.7344 - val_loss: 1.0981 - val_accuracy: 0.8125 - val_f1_m: 0.8125 - val_precision_m: 0.8203 - val_recall_m: 0.8086\n",
      "Epoch 6/50\n",
      "128/128 [==============================] - 11s 86ms/step - loss: 1.3357 - accuracy: 0.7461 - f1_m: 0.7500 - precision_m: 0.7656 - recall_m: 0.7422 - val_loss: 1.8446 - val_accuracy: 0.7227 - val_f1_m: 0.7135 - val_precision_m: 0.7500 - val_recall_m: 0.6953\n",
      "Epoch 7/50\n",
      "128/128 [==============================] - 11s 86ms/step - loss: 1.3612 - accuracy: 0.7617 - f1_m: 0.7708 - precision_m: 0.7969 - recall_m: 0.7578 - val_loss: 0.9847 - val_accuracy: 0.7891 - val_f1_m: 0.7865 - val_precision_m: 0.7969 - val_recall_m: 0.7812\n",
      "Epoch 8/50\n",
      "128/128 [==============================] - 11s 86ms/step - loss: 0.8894 - accuracy: 0.8438 - f1_m: 0.8424 - precision_m: 0.8555 - recall_m: 0.8359 - val_loss: 0.6558 - val_accuracy: 0.8516 - val_f1_m: 0.8542 - val_precision_m: 0.8594 - val_recall_m: 0.8516\n",
      "Epoch 9/50\n",
      "128/128 [==============================] - 11s 85ms/step - loss: 2.3863 - accuracy: 0.6758 - f1_m: 0.6693 - precision_m: 0.6875 - recall_m: 0.6602 - val_loss: 1.4727 - val_accuracy: 0.6562 - val_f1_m: 0.6602 - val_precision_m: 0.6992 - val_recall_m: 0.6406\n",
      "Epoch 10/50\n",
      "128/128 [==============================] - 11s 84ms/step - loss: 1.0586 - accuracy: 0.7930 - f1_m: 0.7799 - precision_m: 0.8008 - recall_m: 0.7695 - val_loss: 0.7866 - val_accuracy: 0.8633 - val_f1_m: 0.8646 - val_precision_m: 0.8828 - val_recall_m: 0.8555\n",
      "Epoch 11/50\n",
      "128/128 [==============================] - 11s 83ms/step - loss: 0.8172 - accuracy: 0.8203 - f1_m: 0.8255 - precision_m: 0.8359 - recall_m: 0.8203 - val_loss: 1.7583 - val_accuracy: 0.7266 - val_f1_m: 0.7188 - val_precision_m: 0.7578 - val_recall_m: 0.6992\n",
      "Epoch 12/50\n",
      "128/128 [==============================] - 11s 83ms/step - loss: 1.2669 - accuracy: 0.7891 - f1_m: 0.7826 - precision_m: 0.8008 - recall_m: 0.7734 - val_loss: 1.0180 - val_accuracy: 0.8555 - val_f1_m: 0.8398 - val_precision_m: 0.8555 - val_recall_m: 0.8320\n",
      "Epoch 13/50\n",
      "128/128 [==============================] - 11s 83ms/step - loss: 0.9271 - accuracy: 0.8477 - f1_m: 0.8490 - precision_m: 0.8594 - recall_m: 0.8438 - val_loss: 0.4468 - val_accuracy: 0.8828 - val_f1_m: 0.8802 - val_precision_m: 0.8828 - val_recall_m: 0.8789\n",
      "Epoch 14/50\n",
      "128/128 [==============================] - 11s 83ms/step - loss: 0.8386 - accuracy: 0.8320 - f1_m: 0.8320 - precision_m: 0.8398 - recall_m: 0.8281 - val_loss: 0.8471 - val_accuracy: 0.8594 - val_f1_m: 0.8594 - val_precision_m: 0.8594 - val_recall_m: 0.8594\n",
      "Epoch 15/50\n",
      "128/128 [==============================] - 11s 83ms/step - loss: 0.8264 - accuracy: 0.8281 - f1_m: 0.8294 - precision_m: 0.8398 - recall_m: 0.8242 - val_loss: 1.7337 - val_accuracy: 0.7656 - val_f1_m: 0.7721 - val_precision_m: 0.7852 - val_recall_m: 0.7656\n",
      "Epoch 16/50\n",
      "128/128 [==============================] - 11s 83ms/step - loss: 1.1672 - accuracy: 0.8164 - f1_m: 0.8242 - precision_m: 0.8398 - recall_m: 0.8164 - val_loss: 1.6408 - val_accuracy: 0.7344 - val_f1_m: 0.7331 - val_precision_m: 0.7461 - val_recall_m: 0.7266\n",
      "Epoch 17/50\n",
      "128/128 [==============================] - 11s 83ms/step - loss: 1.1062 - accuracy: 0.8242 - f1_m: 0.8229 - precision_m: 0.8281 - recall_m: 0.8203 - val_loss: 1.0942 - val_accuracy: 0.8164 - val_f1_m: 0.8203 - val_precision_m: 0.8359 - val_recall_m: 0.8125\n",
      "Epoch 18/50\n",
      "128/128 [==============================] - 11s 83ms/step - loss: 4.4879 - accuracy: 0.5781 - f1_m: 0.5781 - precision_m: 0.5781 - recall_m: 0.5781 - val_loss: 7.1697 - val_accuracy: 0.4766 - val_f1_m: 0.4714 - val_precision_m: 0.4922 - val_recall_m: 0.4609\n",
      "Epoch 19/50\n",
      "128/128 [==============================] - 11s 83ms/step - loss: 1.8216 - accuracy: 0.7070 - f1_m: 0.7122 - precision_m: 0.7383 - recall_m: 0.6992 - val_loss: 0.3886 - val_accuracy: 0.9062 - val_f1_m: 0.8997 - val_precision_m: 0.9102 - val_recall_m: 0.8945\n",
      "Epoch 20/50\n",
      "128/128 [==============================] - 11s 83ms/step - loss: 0.5004 - accuracy: 0.8906 - f1_m: 0.8867 - precision_m: 0.8945 - recall_m: 0.8828 - val_loss: 0.1238 - val_accuracy: 0.9648 - val_f1_m: 0.9648 - val_precision_m: 0.9648 - val_recall_m: 0.9648\n",
      "Epoch 21/50\n",
      "128/128 [==============================] - 11s 83ms/step - loss: 0.4541 - accuracy: 0.8828 - f1_m: 0.8880 - precision_m: 0.8984 - recall_m: 0.8828 - val_loss: 0.4331 - val_accuracy: 0.8984 - val_f1_m: 0.8958 - val_precision_m: 0.8984 - val_recall_m: 0.8945\n",
      "Epoch 22/50\n",
      "128/128 [==============================] - 11s 83ms/step - loss: 0.4101 - accuracy: 0.9141 - f1_m: 0.9115 - precision_m: 0.9219 - recall_m: 0.9062 - val_loss: 0.6568 - val_accuracy: 0.8711 - val_f1_m: 0.8672 - val_precision_m: 0.8750 - val_recall_m: 0.8633\n",
      "Epoch 23/50\n",
      "128/128 [==============================] - 11s 83ms/step - loss: 0.4172 - accuracy: 0.9219 - f1_m: 0.9232 - precision_m: 0.9258 - recall_m: 0.9219 - val_loss: 0.5513 - val_accuracy: 0.8828 - val_f1_m: 0.8841 - val_precision_m: 0.8867 - val_recall_m: 0.8828\n",
      "Epoch 24/50\n",
      "128/128 [==============================] - 11s 83ms/step - loss: 0.1948 - accuracy: 0.9375 - f1_m: 0.9375 - precision_m: 0.9375 - recall_m: 0.9375 - val_loss: 0.2031 - val_accuracy: 0.9414 - val_f1_m: 0.9414 - val_precision_m: 0.9492 - val_recall_m: 0.9375\n",
      "Epoch 25/50\n",
      "128/128 [==============================] - 11s 83ms/step - loss: 0.5565 - accuracy: 0.9023 - f1_m: 0.9049 - precision_m: 0.9102 - recall_m: 0.9023 - val_loss: 0.4033 - val_accuracy: 0.9336 - val_f1_m: 0.9349 - val_precision_m: 0.9375 - val_recall_m: 0.9336\n",
      "Epoch 26/50\n",
      "128/128 [==============================] - 11s 83ms/step - loss: 0.5614 - accuracy: 0.8867 - f1_m: 0.8880 - precision_m: 0.8906 - recall_m: 0.8867 - val_loss: 1.3715 - val_accuracy: 0.8438 - val_f1_m: 0.8464 - val_precision_m: 0.8516 - val_recall_m: 0.8438\n",
      "Epoch 27/50\n",
      "128/128 [==============================] - 11s 83ms/step - loss: 0.5201 - accuracy: 0.8789 - f1_m: 0.8815 - precision_m: 0.8867 - recall_m: 0.8789 - val_loss: 1.0403 - val_accuracy: 0.8008 - val_f1_m: 0.7969 - val_precision_m: 0.8125 - val_recall_m: 0.7891\n",
      "Epoch 28/50\n",
      "128/128 [==============================] - 11s 83ms/step - loss: 0.7957 - accuracy: 0.8750 - f1_m: 0.8776 - precision_m: 0.8906 - recall_m: 0.8711 - val_loss: 0.8605 - val_accuracy: 0.8672 - val_f1_m: 0.8594 - val_precision_m: 0.8672 - val_recall_m: 0.8555\n",
      "Epoch 29/50\n",
      "128/128 [==============================] - 11s 83ms/step - loss: 1.2291 - accuracy: 0.8281 - f1_m: 0.8268 - precision_m: 0.8398 - recall_m: 0.8203 - val_loss: 0.6091 - val_accuracy: 0.9062 - val_f1_m: 0.9062 - val_precision_m: 0.9062 - val_recall_m: 0.9062\n",
      "Epoch 30/50\n",
      "128/128 [==============================] - 11s 83ms/step - loss: 0.5947 - accuracy: 0.8906 - f1_m: 0.8880 - precision_m: 0.8906 - recall_m: 0.8867 - val_loss: 0.1348 - val_accuracy: 0.9688 - val_f1_m: 0.9661 - val_precision_m: 0.9688 - val_recall_m: 0.9648\n",
      "Epoch 31/50\n",
      "128/128 [==============================] - 11s 83ms/step - loss: 0.2083 - accuracy: 0.9609 - f1_m: 0.9583 - precision_m: 0.9609 - recall_m: 0.9570 - val_loss: 0.0826 - val_accuracy: 0.9844 - val_f1_m: 0.9857 - val_precision_m: 0.9883 - val_recall_m: 0.9844\n",
      "Epoch 32/50\n",
      "128/128 [==============================] - 11s 83ms/step - loss: 0.1277 - accuracy: 0.9688 - f1_m: 0.9714 - precision_m: 0.9844 - recall_m: 0.9648 - val_loss: 0.1505 - val_accuracy: 0.9492 - val_f1_m: 0.9583 - val_precision_m: 0.9766 - val_recall_m: 0.9492\n",
      "Epoch 33/50\n",
      "128/128 [==============================] - 11s 83ms/step - loss: 0.5410 - accuracy: 0.9023 - f1_m: 0.9010 - precision_m: 0.9062 - recall_m: 0.8984 - val_loss: 1.2066 - val_accuracy: 0.8008 - val_f1_m: 0.7995 - val_precision_m: 0.8047 - val_recall_m: 0.7969\n",
      "Epoch 34/50\n",
      "128/128 [==============================] - 11s 83ms/step - loss: 0.5901 - accuracy: 0.8828 - f1_m: 0.8815 - precision_m: 0.8867 - recall_m: 0.8789 - val_loss: 0.7851 - val_accuracy: 0.8984 - val_f1_m: 0.8971 - val_precision_m: 0.9023 - val_recall_m: 0.8945\n",
      "Epoch 35/50\n",
      "128/128 [==============================] - 11s 83ms/step - loss: 0.4323 - accuracy: 0.9102 - f1_m: 0.9089 - precision_m: 0.9141 - recall_m: 0.9062 - val_loss: 0.1153 - val_accuracy: 0.9531 - val_f1_m: 0.9544 - val_precision_m: 0.9570 - val_recall_m: 0.9531\n",
      "Epoch 36/50\n",
      "128/128 [==============================] - 11s 83ms/step - loss: 0.2228 - accuracy: 0.9414 - f1_m: 0.9414 - precision_m: 0.9414 - recall_m: 0.9414 - val_loss: 0.2450 - val_accuracy: 0.9531 - val_f1_m: 0.9518 - val_precision_m: 0.9570 - val_recall_m: 0.9492\n",
      "Epoch 37/50\n",
      "128/128 [==============================] - 11s 83ms/step - loss: 0.3534 - accuracy: 0.9375 - f1_m: 0.9323 - precision_m: 0.9375 - recall_m: 0.9297 - val_loss: 0.2017 - val_accuracy: 0.9531 - val_f1_m: 0.9505 - val_precision_m: 0.9531 - val_recall_m: 0.9492\n",
      "Epoch 38/50\n",
      "128/128 [==============================] - 11s 83ms/step - loss: 0.1260 - accuracy: 0.9727 - f1_m: 0.9701 - precision_m: 0.9727 - recall_m: 0.9688 - val_loss: 0.1626 - val_accuracy: 0.9727 - val_f1_m: 0.9727 - val_precision_m: 0.9727 - val_recall_m: 0.9727\n",
      "Epoch 39/50\n",
      "128/128 [==============================] - 11s 83ms/step - loss: 0.2065 - accuracy: 0.9570 - f1_m: 0.9570 - precision_m: 0.9570 - recall_m: 0.9570 - val_loss: 0.3656 - val_accuracy: 0.9297 - val_f1_m: 0.9297 - val_precision_m: 0.9453 - val_recall_m: 0.9219\n",
      "Epoch 40/50\n",
      "128/128 [==============================] - 11s 83ms/step - loss: 0.0239 - accuracy: 0.9844 - f1_m: 0.9844 - precision_m: 0.9922 - recall_m: 0.9805 - val_loss: 0.0745 - val_accuracy: 0.9766 - val_f1_m: 0.9805 - val_precision_m: 0.9883 - val_recall_m: 0.9766\n",
      "Epoch 41/50\n",
      "128/128 [==============================] - 11s 83ms/step - loss: 0.0162 - accuracy: 0.9883 - f1_m: 0.9883 - precision_m: 0.9883 - recall_m: 0.9883 - val_loss: 0.0472 - val_accuracy: 0.9922 - val_f1_m: 0.9922 - val_precision_m: 0.9922 - val_recall_m: 0.9922\n",
      "Epoch 42/50\n",
      "128/128 [==============================] - 11s 83ms/step - loss: 0.0053 - accuracy: 0.9961 - f1_m: 0.9961 - precision_m: 0.9961 - recall_m: 0.9961 - val_loss: 0.0479 - val_accuracy: 0.9883 - val_f1_m: 0.9883 - val_precision_m: 0.9883 - val_recall_m: 0.9883\n",
      "Epoch 43/50\n",
      "128/128 [==============================] - 11s 83ms/step - loss: 0.0013 - accuracy: 1.0000 - f1_m: 1.0000 - precision_m: 1.0000 - recall_m: 1.0000 - val_loss: 0.0334 - val_accuracy: 0.9961 - val_f1_m: 0.9961 - val_precision_m: 0.9961 - val_recall_m: 0.9961\n",
      "Epoch 44/50\n",
      "128/128 [==============================] - 11s 83ms/step - loss: 5.4941e-04 - accuracy: 1.0000 - f1_m: 1.0000 - precision_m: 1.0000 - recall_m: 1.0000 - val_loss: 0.0336 - val_accuracy: 0.9961 - val_f1_m: 0.9961 - val_precision_m: 0.9961 - val_recall_m: 0.9961\n",
      "Epoch 45/50\n",
      "128/128 [==============================] - 11s 83ms/step - loss: 5.6254e-04 - accuracy: 1.0000 - f1_m: 1.0000 - precision_m: 1.0000 - recall_m: 1.0000 - val_loss: 0.0352 - val_accuracy: 0.9961 - val_f1_m: 0.9961 - val_precision_m: 0.9961 - val_recall_m: 0.9961\n",
      "Epoch 46/50\n",
      "128/128 [==============================] - 11s 83ms/step - loss: 3.5542e-04 - accuracy: 1.0000 - f1_m: 1.0000 - precision_m: 1.0000 - recall_m: 1.0000 - val_loss: 0.0332 - val_accuracy: 0.9961 - val_f1_m: 0.9961 - val_precision_m: 0.9961 - val_recall_m: 0.9961\n",
      "Epoch 47/50\n",
      "128/128 [==============================] - 11s 83ms/step - loss: 1.8801e-04 - accuracy: 1.0000 - f1_m: 1.0000 - precision_m: 1.0000 - recall_m: 1.0000 - val_loss: 0.0306 - val_accuracy: 0.9961 - val_f1_m: 0.9961 - val_precision_m: 0.9961 - val_recall_m: 0.9961\n",
      "Epoch 48/50\n",
      "128/128 [==============================] - 11s 83ms/step - loss: 3.8541e-04 - accuracy: 1.0000 - f1_m: 1.0000 - precision_m: 1.0000 - recall_m: 1.0000 - val_loss: 0.0330 - val_accuracy: 0.9961 - val_f1_m: 0.9961 - val_precision_m: 0.9961 - val_recall_m: 0.9961\n",
      "Epoch 49/50\n",
      "128/128 [==============================] - 11s 83ms/step - loss: 0.0013 - accuracy: 1.0000 - f1_m: 1.0000 - precision_m: 1.0000 - recall_m: 1.0000 - val_loss: 0.0334 - val_accuracy: 0.9961 - val_f1_m: 0.9961 - val_precision_m: 0.9961 - val_recall_m: 0.9961\n",
      "Epoch 50/50\n",
      "128/128 [==============================] - 11s 83ms/step - loss: 5.2359e-04 - accuracy: 1.0000 - f1_m: 1.0000 - precision_m: 1.0000 - recall_m: 1.0000 - val_loss: 0.0364 - val_accuracy: 0.9922 - val_f1_m: 0.9922 - val_precision_m: 0.9922 - val_recall_m: 0.9922\n"
     ]
    }
   ],
   "source": [
    "history2 = model12.fit(train_image_generator, \n",
    "                 epochs=50, \n",
    "                 verbose=1, \n",
    "                 validation_data=val_image_generator,  \n",
    "                 )"
   ]
  },
  {
   "cell_type": "code",
   "execution_count": 27,
   "metadata": {},
   "outputs": [],
   "source": [
    "model12.save('mobile.h5')"
   ]
  },
  {
   "cell_type": "code",
   "execution_count": 28,
   "metadata": {},
   "outputs": [],
   "source": [
    "mob_acc = history2.history[\"val_accuracy\"][49]\n",
    "mob_prec = history2.history[\"val_precision_m\"][49]\n",
    "mob_rec = history2.history[\"val_recall_m\"][49]\n",
    "mob_f1 = history2.history[\"val_f1_m\"][49]"
   ]
  },
  {
   "cell_type": "code",
   "execution_count": 29,
   "metadata": {},
   "outputs": [],
   "source": [
    "storeResults('MobileNet',mob_acc,mob_prec,mob_rec,mob_f1)"
   ]
  },
  {
   "cell_type": "code",
   "execution_count": 30,
   "metadata": {},
   "outputs": [
    {
     "data": {
      "image/png": "[encoded data removed]",
      "text/plain": [
       "<Figure size 432x288 with 2 Axes>"
      ]
     },
     "metadata": {
      "needs_background": "light"
     },
     "output_type": "display_data"
    }
   ],
   "source": [
    "fig, (ax1, ax2) = plt.subplots(2, 1)\n",
    "ax1.plot(history2.history[\"loss\"], color=\"b\", label=\"Training loss\")\n",
    "ax1.plot(history2.history[\"val_loss\"], color=\"r\", label=\"validation loss\")\n",
    "ax1.legend()\n",
    "\n",
    "ax2.plot(history2.history[\"accuracy\"], color=\"b\", label=\"Training accuracy\")\n",
    "ax2.plot(history2.history[\"val_accuracy\"], color=\"r\", label=\"Validation accuracy\")\n",
    "ax2.legend()\n",
    "\n",
    "legend = plt.legend(loc=\"best\")\n",
    "plt.tight_layout()\n",
    "plt.show()"
   ]
  },
  {
   "cell_type": "markdown",
   "metadata": {},
   "source": [
    "# Xception"
   ]
  },
  {
   "cell_type": "code",
   "execution_count": 28,
   "metadata": {},
   "outputs": [],
   "source": [
    "from keras.applications.xception import Xception\n",
    "from keras.layers import Activation, Dense,GlobalAveragePooling2D, Dropout\n",
    "from keras.models import Model"
   ]
  },
  {
   "cell_type": "code",
   "execution_count": 29,
   "metadata": {},
   "outputs": [],
   "source": [
    "# Defining the pretrained base model\n",
    "base = Xception(include_top=False, weights='imagenet', input_shape=(128, 128, 3))\n",
    "x = base.output\n",
    "x = GlobalAveragePooling2D()(x)\n",
    "# Defining the head of the model where the prediction is conducted\n",
    "head = Dense(32, activation='softmax')(x)\n",
    "# Combining base and head \n",
    "model3 = Model(inputs=base.input, outputs=head)\n",
    "\n",
    "# Compiling the model\n",
    "model3.compile(loss = keras.losses.categorical_crossentropy, optimizer= 'adam', metrics=['accuracy',f1_m,precision_m, recall_m])"
   ]
  },
  {
   "cell_type": "code",
   "execution_count": 30,
   "metadata": {},
   "outputs": [
    {
     "name": "stdout",
     "output_type": "stream",
     "text": [
      "Epoch 1/50\n",
      "128/128 [==============================] - 16s 57ms/step - loss: 3.4871 - accuracy: 0.0415 - f1_m: 0.0000e+00 - precision_m: 0.0000e+00 - recall_m: 0.0000e+00 - val_loss: 4.3683 - val_accuracy: 0.0625 - val_f1_m: 0.0000e+00 - val_precision_m: 0.0000e+00 - val_recall_m: 0.0000e+00\n",
      "Epoch 2/50\n",
      "128/128 [==============================] - 5s 37ms/step - loss: 3.4394 - accuracy: 0.0351 - f1_m: 0.0000e+00 - precision_m: 0.0000e+00 - recall_m: 0.0000e+00 - val_loss: 3.5652 - val_accuracy: 0.0586 - val_f1_m: 0.0000e+00 - val_precision_m: 0.0000e+00 - val_recall_m: 0.0000e+00\n",
      "Epoch 3/50\n",
      "128/128 [==============================] - 5s 38ms/step - loss: 3.4485 - accuracy: 0.0307 - f1_m: 0.0000e+00 - precision_m: 0.0000e+00 - recall_m: 0.0000e+00 - val_loss: 34.7385 - val_accuracy: 0.0312 - val_f1_m: 0.0312 - val_precision_m: 0.0312 - val_recall_m: 0.0312\n",
      "Epoch 4/50\n",
      "128/128 [==============================] - 5s 38ms/step - loss: 3.4309 - accuracy: 0.0365 - f1_m: 0.0000e+00 - precision_m: 0.0000e+00 - recall_m: 0.0000e+00 - val_loss: 3.9113 - val_accuracy: 0.0312 - val_f1_m: 0.0000e+00 - val_precision_m: 0.0000e+00 - val_recall_m: 0.0000e+00\n",
      "Epoch 5/50\n",
      "128/128 [==============================] - 5s 38ms/step - loss: 3.4302 - accuracy: 0.0825 - f1_m: 0.0000e+00 - precision_m: 0.0000e+00 - recall_m: 0.0000e+00 - val_loss: 395.5083 - val_accuracy: 0.0312 - val_f1_m: 0.0312 - val_precision_m: 0.0312 - val_recall_m: 0.0312\n",
      "Epoch 6/50\n",
      "128/128 [==============================] - 5s 38ms/step - loss: 3.5997 - accuracy: 0.0055 - f1_m: 0.0000e+00 - precision_m: 0.0000e+00 - recall_m: 0.0000e+00 - val_loss: 80.5786 - val_accuracy: 0.0625 - val_f1_m: 0.0430 - val_precision_m: 0.0508 - val_recall_m: 0.0391\n",
      "Epoch 7/50\n",
      "128/128 [==============================] - 5s 38ms/step - loss: 3.4274 - accuracy: 0.0258 - f1_m: 0.0000e+00 - precision_m: 0.0000e+00 - recall_m: 0.0000e+00 - val_loss: 4.3268 - val_accuracy: 0.0586 - val_f1_m: 0.0208 - val_precision_m: 0.0312 - val_recall_m: 0.0156\n",
      "Epoch 8/50\n",
      "128/128 [==============================] - 5s 37ms/step - loss: 3.4218 - accuracy: 0.0455 - f1_m: 0.0000e+00 - precision_m: 0.0000e+00 - recall_m: 0.0000e+00 - val_loss: 26.1477 - val_accuracy: 0.0664 - val_f1_m: 0.0378 - val_precision_m: 0.0508 - val_recall_m: 0.0312\n",
      "Epoch 9/50\n",
      "128/128 [==============================] - 5s 37ms/step - loss: 3.4356 - accuracy: 0.0558 - f1_m: 0.0000e+00 - precision_m: 0.0000e+00 - recall_m: 0.0000e+00 - val_loss: 18.9237 - val_accuracy: 0.0781 - val_f1_m: 0.0612 - val_precision_m: 0.0742 - val_recall_m: 0.0547\n",
      "Epoch 10/50\n",
      "128/128 [==============================] - 5s 38ms/step - loss: 3.3954 - accuracy: 0.0455 - f1_m: 0.0000e+00 - precision_m: 0.0000e+00 - recall_m: 0.0000e+00 - val_loss: 9.8276 - val_accuracy: 0.0664 - val_f1_m: 0.0495 - val_precision_m: 0.0625 - val_recall_m: 0.0430\n",
      "Epoch 11/50\n",
      "128/128 [==============================] - 5s 39ms/step - loss: 3.3172 - accuracy: 0.0432 - f1_m: 0.0000e+00 - precision_m: 0.0000e+00 - recall_m: 0.0000e+00 - val_loss: 9.9594 - val_accuracy: 0.0977 - val_f1_m: 0.0326 - val_precision_m: 0.0430 - val_recall_m: 0.0273\n",
      "Epoch 12/50\n",
      "128/128 [==============================] - 5s 38ms/step - loss: 3.3214 - accuracy: 0.0562 - f1_m: 0.0000e+00 - precision_m: 0.0000e+00 - recall_m: 0.0000e+00 - val_loss: 11.6136 - val_accuracy: 0.0664 - val_f1_m: 0.0391 - val_precision_m: 0.0469 - val_recall_m: 0.0352\n",
      "Epoch 13/50\n",
      "128/128 [==============================] - 5s 38ms/step - loss: 3.2242 - accuracy: 0.0755 - f1_m: 0.0000e+00 - precision_m: 0.0000e+00 - recall_m: 0.0000e+00 - val_loss: 125.1011 - val_accuracy: 0.0312 - val_f1_m: 0.0078 - val_precision_m: 0.0078 - val_recall_m: 0.0078\n",
      "Epoch 14/50\n",
      "128/128 [==============================] - 5s 37ms/step - loss: 3.1939 - accuracy: 0.0650 - f1_m: 0.0000e+00 - precision_m: 0.0000e+00 - recall_m: 0.0000e+00 - val_loss: 10.2838 - val_accuracy: 0.0781 - val_f1_m: 0.0625 - val_precision_m: 0.0703 - val_recall_m: 0.0586\n",
      "Epoch 15/50\n",
      "128/128 [==============================] - 5s 39ms/step - loss: 3.0289 - accuracy: 0.1331 - f1_m: 0.0000e+00 - precision_m: 0.0000e+00 - recall_m: 0.0000e+00 - val_loss: 5.2085 - val_accuracy: 0.1250 - val_f1_m: 0.0260 - val_precision_m: 0.0391 - val_recall_m: 0.0195\n",
      "Epoch 16/50\n",
      "128/128 [==============================] - 5s 39ms/step - loss: 2.9386 - accuracy: 0.0987 - f1_m: 0.0000e+00 - precision_m: 0.0000e+00 - recall_m: 0.0000e+00 - val_loss: 15.1178 - val_accuracy: 0.1172 - val_f1_m: 0.0247 - val_precision_m: 0.0352 - val_recall_m: 0.0195\n",
      "Epoch 17/50\n",
      "128/128 [==============================] - 5s 37ms/step - loss: 2.9238 - accuracy: 0.1465 - f1_m: 0.0000e+00 - precision_m: 0.0000e+00 - recall_m: 0.0000e+00 - val_loss: 7.8344 - val_accuracy: 0.1250 - val_f1_m: 0.0312 - val_precision_m: 0.0391 - val_recall_m: 0.0273\n",
      "Epoch 18/50\n",
      "128/128 [==============================] - 5s 37ms/step - loss: 2.7869 - accuracy: 0.1150 - f1_m: 0.0000e+00 - precision_m: 0.0000e+00 - recall_m: 0.0000e+00 - val_loss: 16.8103 - val_accuracy: 0.1094 - val_f1_m: 0.0443 - val_precision_m: 0.0547 - val_recall_m: 0.0391\n",
      "Epoch 19/50\n",
      "128/128 [==============================] - 5s 37ms/step - loss: 2.8910 - accuracy: 0.1425 - f1_m: 0.0000e+00 - precision_m: 0.0000e+00 - recall_m: 0.0000e+00 - val_loss: 7.9095 - val_accuracy: 0.1328 - val_f1_m: 0.0104 - val_precision_m: 0.0156 - val_recall_m: 0.0078\n",
      "Epoch 20/50\n",
      "128/128 [==============================] - 5s 37ms/step - loss: 2.5690 - accuracy: 0.2004 - f1_m: 0.0165 - precision_m: 0.0247 - recall_m: 0.0124 - val_loss: 4.1781 - val_accuracy: 0.1836 - val_f1_m: 0.0482 - val_precision_m: 0.0664 - val_recall_m: 0.0391\n",
      "Epoch 21/50\n",
      "128/128 [==============================] - 5s 37ms/step - loss: 2.5072 - accuracy: 0.2042 - f1_m: 0.0595 - precision_m: 0.0892 - recall_m: 0.0446 - val_loss: 6.1481 - val_accuracy: 0.1250 - val_f1_m: 0.0469 - val_precision_m: 0.0703 - val_recall_m: 0.0352\n",
      "Epoch 22/50\n",
      "128/128 [==============================] - 5s 38ms/step - loss: 2.5290 - accuracy: 0.1865 - f1_m: 0.0014 - precision_m: 0.0021 - recall_m: 0.0011 - val_loss: 6.5906 - val_accuracy: 0.1055 - val_f1_m: 0.0690 - val_precision_m: 0.0977 - val_recall_m: 0.0547\n",
      "Epoch 23/50\n",
      "128/128 [==============================] - 5s 37ms/step - loss: 2.2835 - accuracy: 0.2945 - f1_m: 0.0319 - precision_m: 0.0478 - recall_m: 0.0239 - val_loss: 2.7487 - val_accuracy: 0.2461 - val_f1_m: 0.0443 - val_precision_m: 0.0625 - val_recall_m: 0.0352\n",
      "Epoch 24/50\n",
      "128/128 [==============================] - 5s 37ms/step - loss: 2.1830 - accuracy: 0.3358 - f1_m: 0.0401 - precision_m: 0.0602 - recall_m: 0.0301 - val_loss: 2.5870 - val_accuracy: 0.3633 - val_f1_m: 0.1211 - val_precision_m: 0.1680 - val_recall_m: 0.0977\n",
      "Epoch 25/50\n",
      "128/128 [==============================] - 5s 38ms/step - loss: 2.0644 - accuracy: 0.3692 - f1_m: 0.0836 - precision_m: 0.1255 - recall_m: 0.0627 - val_loss: 3.8372 - val_accuracy: 0.3281 - val_f1_m: 0.1562 - val_precision_m: 0.2109 - val_recall_m: 0.1289\n",
      "Epoch 26/50\n",
      "128/128 [==============================] - 5s 38ms/step - loss: 1.9593 - accuracy: 0.3880 - f1_m: 0.1298 - precision_m: 0.1921 - recall_m: 0.0986 - val_loss: 1.8352 - val_accuracy: 0.4414 - val_f1_m: 0.3034 - val_precision_m: 0.4258 - val_recall_m: 0.2422\n",
      "Epoch 27/50\n",
      "128/128 [==============================] - 5s 37ms/step - loss: 1.6838 - accuracy: 0.4260 - f1_m: 0.2249 - precision_m: 0.3148 - recall_m: 0.1799 - val_loss: 1.6113 - val_accuracy: 0.5078 - val_f1_m: 0.3802 - val_precision_m: 0.4922 - val_recall_m: 0.3242\n",
      "Epoch 28/50\n",
      "128/128 [==============================] - 5s 38ms/step - loss: 1.5283 - accuracy: 0.5450 - f1_m: 0.3493 - precision_m: 0.4864 - recall_m: 0.2808 - val_loss: 2.5588 - val_accuracy: 0.5117 - val_f1_m: 0.3216 - val_precision_m: 0.4102 - val_recall_m: 0.2773\n",
      "Epoch 29/50\n",
      "128/128 [==============================] - 5s 38ms/step - loss: 1.2155 - accuracy: 0.6000 - f1_m: 0.4148 - precision_m: 0.5733 - recall_m: 0.3356 - val_loss: 1.1494 - val_accuracy: 0.5977 - val_f1_m: 0.5156 - val_precision_m: 0.6172 - val_recall_m: 0.4648\n",
      "Epoch 30/50\n",
      "128/128 [==============================] - 5s 38ms/step - loss: 1.2053 - accuracy: 0.6260 - f1_m: 0.4953 - precision_m: 0.6283 - recall_m: 0.4288 - val_loss: 1.6888 - val_accuracy: 0.6406 - val_f1_m: 0.5924 - val_precision_m: 0.6992 - val_recall_m: 0.5391\n"
     ]
    },
    {
     "name": "stdout",
     "output_type": "stream",
     "text": [
      "Epoch 31/50\n",
      "128/128 [==============================] - 5s 38ms/step - loss: 1.3443 - accuracy: 0.6077 - f1_m: 0.4350 - precision_m: 0.5780 - recall_m: 0.3634 - val_loss: 0.7210 - val_accuracy: 0.7500 - val_f1_m: 0.7122 - val_precision_m: 0.7930 - val_recall_m: 0.6719\n",
      "Epoch 32/50\n",
      "128/128 [==============================] - 5s 37ms/step - loss: 0.8697 - accuracy: 0.6969 - f1_m: 0.6125 - precision_m: 0.7541 - recall_m: 0.5417 - val_loss: 1.1701 - val_accuracy: 0.6875 - val_f1_m: 0.5820 - val_precision_m: 0.7148 - val_recall_m: 0.5156\n",
      "Epoch 33/50\n",
      "128/128 [==============================] - 5s 37ms/step - loss: 0.5919 - accuracy: 0.8340 - f1_m: 0.7451 - precision_m: 0.8611 - recall_m: 0.6872 - val_loss: 0.5641 - val_accuracy: 0.8750 - val_f1_m: 0.7891 - val_precision_m: 0.8984 - val_recall_m: 0.7344\n",
      "Epoch 34/50\n",
      "128/128 [==============================] - 5s 37ms/step - loss: 0.4495 - accuracy: 0.8906 - f1_m: 0.8273 - precision_m: 0.9018 - recall_m: 0.7901 - val_loss: 1.9523 - val_accuracy: 0.7695 - val_f1_m: 0.7474 - val_precision_m: 0.7891 - val_recall_m: 0.7266\n",
      "Epoch 35/50\n",
      "128/128 [==============================] - 5s 37ms/step - loss: 0.3980 - accuracy: 0.9199 - f1_m: 0.8377 - precision_m: 0.9089 - recall_m: 0.8021 - val_loss: 0.3368 - val_accuracy: 0.8828 - val_f1_m: 0.8607 - val_precision_m: 0.9102 - val_recall_m: 0.8359\n",
      "Epoch 36/50\n",
      "128/128 [==============================] - 5s 37ms/step - loss: 0.3776 - accuracy: 0.9109 - f1_m: 0.8702 - precision_m: 0.9404 - recall_m: 0.8352 - val_loss: 0.1770 - val_accuracy: 0.9570 - val_f1_m: 0.9622 - val_precision_m: 0.9727 - val_recall_m: 0.9570\n",
      "Epoch 37/50\n",
      "128/128 [==============================] - 5s 37ms/step - loss: 0.2381 - accuracy: 0.9179 - f1_m: 0.9160 - precision_m: 0.9690 - recall_m: 0.8895 - val_loss: 0.3645 - val_accuracy: 0.8672 - val_f1_m: 0.8646 - val_precision_m: 0.8828 - val_recall_m: 0.8555\n",
      "Epoch 38/50\n",
      "128/128 [==============================] - 5s 37ms/step - loss: 0.2746 - accuracy: 0.9186 - f1_m: 0.9253 - precision_m: 0.9552 - recall_m: 0.9103 - val_loss: 0.3515 - val_accuracy: 0.8711 - val_f1_m: 0.8763 - val_precision_m: 0.8945 - val_recall_m: 0.8672\n",
      "Epoch 39/50\n",
      "128/128 [==============================] - 5s 37ms/step - loss: 0.2031 - accuracy: 0.9290 - f1_m: 0.9194 - precision_m: 0.9443 - recall_m: 0.9069 - val_loss: 0.1196 - val_accuracy: 0.9844 - val_f1_m: 0.9831 - val_precision_m: 0.9961 - val_recall_m: 0.9766\n",
      "Epoch 40/50\n",
      "128/128 [==============================] - 5s 38ms/step - loss: 0.1271 - accuracy: 0.9717 - f1_m: 0.9640 - precision_m: 0.9717 - recall_m: 0.9602 - val_loss: 0.0685 - val_accuracy: 0.9883 - val_f1_m: 0.9818 - val_precision_m: 0.9922 - val_recall_m: 0.9766\n",
      "Epoch 41/50\n",
      "128/128 [==============================] - 5s 38ms/step - loss: 0.0809 - accuracy: 0.9770 - f1_m: 0.9724 - precision_m: 0.9760 - recall_m: 0.9706 - val_loss: 0.3107 - val_accuracy: 0.8906 - val_f1_m: 0.8776 - val_precision_m: 0.8984 - val_recall_m: 0.8672\n",
      "Epoch 42/50\n",
      "128/128 [==============================] - 5s 39ms/step - loss: 0.2765 - accuracy: 0.9095 - f1_m: 0.9110 - precision_m: 0.9361 - recall_m: 0.8985 - val_loss: 0.6659 - val_accuracy: 0.8477 - val_f1_m: 0.8503 - val_precision_m: 0.8711 - val_recall_m: 0.8398\n",
      "Epoch 43/50\n",
      "128/128 [==============================] - 5s 38ms/step - loss: 0.0999 - accuracy: 0.9822 - f1_m: 0.9687 - precision_m: 0.9858 - recall_m: 0.9601 - val_loss: 0.0881 - val_accuracy: 0.9727 - val_f1_m: 0.9674 - val_precision_m: 0.9727 - val_recall_m: 0.9648\n",
      "Epoch 44/50\n",
      "128/128 [==============================] - 5s 38ms/step - loss: 0.1329 - accuracy: 0.9493 - f1_m: 0.9606 - precision_m: 0.9831 - recall_m: 0.9493 - val_loss: 0.3717 - val_accuracy: 0.9258 - val_f1_m: 0.9271 - val_precision_m: 0.9297 - val_recall_m: 0.9258\n",
      "Epoch 45/50\n",
      "128/128 [==============================] - 5s 38ms/step - loss: 0.1800 - accuracy: 0.9871 - f1_m: 0.9871 - precision_m: 0.9871 - recall_m: 0.9871 - val_loss: 0.0948 - val_accuracy: 0.9766 - val_f1_m: 0.9779 - val_precision_m: 0.9805 - val_recall_m: 0.9766\n",
      "Epoch 46/50\n",
      "128/128 [==============================] - 5s 39ms/step - loss: 0.0724 - accuracy: 0.9714 - f1_m: 0.9698 - precision_m: 0.9732 - recall_m: 0.9682 - val_loss: 0.4271 - val_accuracy: 0.9336 - val_f1_m: 0.9297 - val_precision_m: 0.9453 - val_recall_m: 0.9219\n",
      "Epoch 47/50\n",
      "128/128 [==============================] - 5s 39ms/step - loss: 0.0216 - accuracy: 0.9995 - f1_m: 0.9995 - precision_m: 0.9995 - recall_m: 0.9995 - val_loss: 0.2394 - val_accuracy: 0.9688 - val_f1_m: 0.9688 - val_precision_m: 0.9688 - val_recall_m: 0.9688\n",
      "Epoch 48/50\n",
      "128/128 [==============================] - 5s 39ms/step - loss: 0.0368 - accuracy: 0.9920 - f1_m: 0.9895 - precision_m: 0.9920 - recall_m: 0.9882 - val_loss: 0.2704 - val_accuracy: 0.9297 - val_f1_m: 0.9271 - val_precision_m: 0.9453 - val_recall_m: 0.9180\n",
      "Epoch 49/50\n",
      "128/128 [==============================] - 5s 39ms/step - loss: 0.1803 - accuracy: 0.9636 - f1_m: 0.9634 - precision_m: 0.9648 - recall_m: 0.9627 - val_loss: 0.0339 - val_accuracy: 0.9961 - val_f1_m: 0.9961 - val_precision_m: 0.9961 - val_recall_m: 0.9961\n",
      "Epoch 50/50\n",
      "128/128 [==============================] - 5s 39ms/step - loss: 0.0171 - accuracy: 1.0000 - f1_m: 1.0000 - precision_m: 1.0000 - recall_m: 1.0000 - val_loss: 0.0160 - val_accuracy: 0.9961 - val_f1_m: 0.9935 - val_precision_m: 0.9961 - val_recall_m: 0.9922\n"
     ]
    }
   ],
   "source": [
    "history3 = model3.fit(train_image_generator, \n",
    "                 epochs=50, \n",
    "                 verbose=1, \n",
    "                 validation_data=val_image_generator,  \n",
    "                 )"
   ]
  },
  {
   "cell_type": "code",
   "execution_count": 34,
   "metadata": {},
   "outputs": [],
   "source": [
    "model3.save('xec.h5')"
   ]
  },
  {
   "cell_type": "code",
   "execution_count": 35,
   "metadata": {},
   "outputs": [],
   "source": [
    "xec_acc = history3.history[\"val_accuracy\"][49]\n",
    "xec_prec = history3.history[\"val_precision_m\"][49]\n",
    "xec_rec = history3.history[\"val_recall_m\"][49]\n",
    "xec_f1 = history3.history[\"val_f1_m\"][49]"
   ]
  },
  {
   "cell_type": "code",
   "execution_count": 36,
   "metadata": {},
   "outputs": [],
   "source": [
    "storeResults('Xecption',xec_acc,xec_prec,xec_rec,xec_f1)"
   ]
  },
  {
   "cell_type": "code",
   "execution_count": 37,
   "metadata": {},
   "outputs": [
    {
     "data": {
      "image/png": "[encoded data removed]",
      "text/plain": [
       "<Figure size 432x288 with 2 Axes>"
      ]
     },
     "metadata": {
      "needs_background": "light"
     },
     "output_type": "display_data"
    }
   ],
   "source": [
    "fig, (ax1, ax2) = plt.subplots(2, 1)\n",
    "ax1.plot(history3.history[\"loss\"], color=\"b\", label=\"Training loss\")\n",
    "ax1.plot(history3.history[\"val_loss\"], color=\"r\", label=\"validation loss\")\n",
    "ax1.legend()\n",
    "\n",
    "ax2.plot(history3.history[\"accuracy\"], color=\"b\", label=\"Training accuracy\")\n",
    "ax2.plot(history3.history[\"val_accuracy\"], color=\"r\", label=\"Validation accuracy\")\n",
    "ax2.legend()\n",
    "\n",
    "legend = plt.legend(loc=\"best\")\n",
    "plt.tight_layout()\n",
    "plt.show()"
   ]
  },
  {
   "cell_type": "markdown",
   "metadata": {},
   "source": [
    "# MobileNet + Xception"
   ]
  },
  {
   "cell_type": "code",
   "execution_count": 38,
   "metadata": {},
   "outputs": [],
   "source": [
    "from tensorflow.keras.models import load_model\n",
    "from tensorflow.keras.layers import Average\n",
    "import efficientnet.keras \n",
    "def ensemble():\n",
    "\n",
    "    model_1 = load_model('mobile.h5', compile=False)\n",
    "    model_1 = Model(inputs = model_1.inputs, outputs = model_1.outputs, name = 'MobileNet')\n",
    "\n",
    "    model_2 = load_model('xec.h5', compile=False)\n",
    "    model_2 = Model(inputs = model_2.inputs, outputs = model_2.outputs, name = 'Xception')\n",
    "\n",
    "\n",
    "    models = [model_1, model_2]\n",
    "\n",
    "\n",
    "    models_input = Input(shape =(128,128,3))\n",
    "    models_output = [model(models_input) for model in models]\n",
    "    \n",
    "    ensemble_output = Average()(models_output)\n",
    "\n",
    "    simple_average = Model(inputs = models_input, outputs = ensemble_output, name = 'Ensemble')\n",
    "\n",
    "    return simple_average"
   ]
  },
  {
   "cell_type": "code",
   "execution_count": 39,
   "metadata": {},
   "outputs": [
    {
     "name": "stdout",
     "output_type": "stream",
     "text": [
      "Model: \"Ensemble\"\n",
      "__________________________________________________________________________________________________\n",
      "Layer (type)                    Output Shape         Param #     Connected to                     \n",
      "==================================================================================================\n",
      "Total params: 24,680,232\n",
      "Trainable params: 24,603,816\n",
      "Non-trainable params: 76,416\n",
      "__________________________________________________________________________________________________\n"
     ]
    }
   ],
   "source": [
    "model4 = ensemble()\n",
    "model4.summary()"
   ]
  },
  {
   "cell_type": "code",
   "execution_count": 40,
   "metadata": {},
   "outputs": [],
   "source": [
    "model4.compile(loss = keras.losses.categorical_crossentropy, optimizer= 'adam', metrics=['accuracy',f1_m,precision_m, recall_m])"
   ]
  },
  {
   "cell_type": "code",
   "execution_count": 41,
   "metadata": {},
   "outputs": [
    {
     "name": "stdout",
     "output_type": "stream",
     "text": [
      "Epoch 1/50\n",
      "128/128 [==============================] - 36s 283ms/step - loss: 0.0064 - accuracy: 1.0000 - f1_m: 1.0000 - precision_m: 1.0000 - recall_m: 1.0000 - val_loss: 0.8019 - val_accuracy: 0.8646 - val_f1_m: 0.8785 - val_precision_m: 0.9062 - val_recall_m: 0.8646\n",
      "Epoch 2/50\n",
      "128/128 [==============================] - 36s 282ms/step - loss: 0.0176 - accuracy: 0.9961 - f1_m: 0.9961 - precision_m: 0.9961 - recall_m: 0.9961 - val_loss: 0.8193 - val_accuracy: 0.8021 - val_f1_m: 0.8229 - val_precision_m: 0.8646 - val_recall_m: 0.8021\n",
      "Epoch 3/50\n",
      "128/128 [==============================] - 36s 283ms/step - loss: 0.4750 - accuracy: 0.8750 - f1_m: 0.8659 - precision_m: 0.8867 - recall_m: 0.8555 - val_loss: 23.7937 - val_accuracy: 0.0938 - val_f1_m: 0.0972 - val_precision_m: 0.1042 - val_recall_m: 0.0938\n",
      "Epoch 4/50\n",
      "128/128 [==============================] - 36s 282ms/step - loss: 0.3014 - accuracy: 0.9062 - f1_m: 0.9049 - precision_m: 0.9336 - recall_m: 0.8906 - val_loss: 1.3721 - val_accuracy: 0.6979 - val_f1_m: 0.7083 - val_precision_m: 0.7708 - val_recall_m: 0.6771\n",
      "Epoch 5/50\n",
      "128/128 [==============================] - 36s 282ms/step - loss: 0.1819 - accuracy: 0.9453 - f1_m: 0.9466 - precision_m: 0.9648 - recall_m: 0.9375 - val_loss: 0.8872 - val_accuracy: 0.8021 - val_f1_m: 0.8125 - val_precision_m: 0.8542 - val_recall_m: 0.7917\n",
      "Epoch 6/50\n",
      "128/128 [==============================] - 36s 282ms/step - loss: 0.0653 - accuracy: 0.9883 - f1_m: 0.9844 - precision_m: 0.9922 - recall_m: 0.9805 - val_loss: 0.7154 - val_accuracy: 0.8229 - val_f1_m: 0.8090 - val_precision_m: 0.8229 - val_recall_m: 0.8021\n",
      "Epoch 7/50\n",
      "128/128 [==============================] - 36s 282ms/step - loss: 0.0552 - accuracy: 0.9883 - f1_m: 0.9883 - precision_m: 0.9883 - recall_m: 0.9883 - val_loss: 1.0266 - val_accuracy: 0.7604 - val_f1_m: 0.7847 - val_precision_m: 0.8542 - val_recall_m: 0.7500\n",
      "Epoch 8/50\n",
      "128/128 [==============================] - 36s 282ms/step - loss: 0.1102 - accuracy: 0.9766 - f1_m: 0.9714 - precision_m: 0.9766 - recall_m: 0.9688 - val_loss: 0.8006 - val_accuracy: 0.7917 - val_f1_m: 0.8056 - val_precision_m: 0.8333 - val_recall_m: 0.7917\n",
      "Epoch 9/50\n",
      "128/128 [==============================] - 36s 282ms/step - loss: 0.1237 - accuracy: 0.9648 - f1_m: 0.9583 - precision_m: 0.9688 - recall_m: 0.9531 - val_loss: 0.9969 - val_accuracy: 0.7500 - val_f1_m: 0.7743 - val_precision_m: 0.8229 - val_recall_m: 0.7500\n",
      "Epoch 10/50\n",
      "128/128 [==============================] - 36s 282ms/step - loss: 0.0776 - accuracy: 0.9844 - f1_m: 0.9818 - precision_m: 0.9844 - recall_m: 0.9805 - val_loss: 0.7594 - val_accuracy: 0.7917 - val_f1_m: 0.8021 - val_precision_m: 0.8438 - val_recall_m: 0.7812\n",
      "Epoch 11/50\n",
      "128/128 [==============================] - 36s 283ms/step - loss: 0.0608 - accuracy: 0.9883 - f1_m: 0.9883 - precision_m: 0.9883 - recall_m: 0.9883 - val_loss: 0.7676 - val_accuracy: 0.8021 - val_f1_m: 0.8125 - val_precision_m: 0.8542 - val_recall_m: 0.7917\n",
      "Epoch 12/50\n",
      "128/128 [==============================] - 36s 282ms/step - loss: 0.1502 - accuracy: 0.9609 - f1_m: 0.9596 - precision_m: 0.9648 - recall_m: 0.9570 - val_loss: 0.9095 - val_accuracy: 0.8021 - val_f1_m: 0.8021 - val_precision_m: 0.8229 - val_recall_m: 0.7917\n",
      "Epoch 13/50\n",
      "128/128 [==============================] - 36s 282ms/step - loss: 0.0487 - accuracy: 0.9844 - f1_m: 0.9844 - precision_m: 0.9922 - recall_m: 0.9805 - val_loss: 0.9686 - val_accuracy: 0.7812 - val_f1_m: 0.7674 - val_precision_m: 0.7812 - val_recall_m: 0.7604\n",
      "Epoch 14/50\n",
      "128/128 [==============================] - 36s 282ms/step - loss: 0.0081 - accuracy: 1.0000 - f1_m: 1.0000 - precision_m: 1.0000 - recall_m: 1.0000 - val_loss: 0.7702 - val_accuracy: 0.8021 - val_f1_m: 0.8090 - val_precision_m: 0.8229 - val_recall_m: 0.8021\n",
      "Epoch 15/50\n",
      "128/128 [==============================] - 36s 282ms/step - loss: 0.0676 - accuracy: 0.9922 - f1_m: 0.9922 - precision_m: 0.9922 - recall_m: 0.9922 - val_loss: 1.1617 - val_accuracy: 0.7292 - val_f1_m: 0.7431 - val_precision_m: 0.7917 - val_recall_m: 0.7188\n",
      "Epoch 16/50\n",
      "128/128 [==============================] - 36s 283ms/step - loss: 0.0274 - accuracy: 0.9961 - f1_m: 0.9961 - precision_m: 0.9961 - recall_m: 0.9961 - val_loss: 0.7899 - val_accuracy: 0.8125 - val_f1_m: 0.8056 - val_precision_m: 0.8333 - val_recall_m: 0.7917\n",
      "Epoch 17/50\n",
      "128/128 [==============================] - 36s 282ms/step - loss: 0.0124 - accuracy: 1.0000 - f1_m: 1.0000 - precision_m: 1.0000 - recall_m: 1.0000 - val_loss: 0.9874 - val_accuracy: 0.7917 - val_f1_m: 0.7917 - val_precision_m: 0.8125 - val_recall_m: 0.7812\n",
      "Epoch 18/50\n",
      "128/128 [==============================] - 36s 283ms/step - loss: 0.0076 - accuracy: 1.0000 - f1_m: 1.0000 - precision_m: 1.0000 - recall_m: 1.0000 - val_loss: 0.8712 - val_accuracy: 0.7708 - val_f1_m: 0.7778 - val_precision_m: 0.8125 - val_recall_m: 0.7604\n",
      "Epoch 19/50\n",
      "128/128 [==============================] - 36s 282ms/step - loss: 0.0062 - accuracy: 1.0000 - f1_m: 1.0000 - precision_m: 1.0000 - recall_m: 1.0000 - val_loss: 0.7582 - val_accuracy: 0.8438 - val_f1_m: 0.8299 - val_precision_m: 0.8646 - val_recall_m: 0.8125\n",
      "Epoch 20/50\n",
      "128/128 [==============================] - 36s 282ms/step - loss: 0.0038 - accuracy: 1.0000 - f1_m: 1.0000 - precision_m: 1.0000 - recall_m: 1.0000 - val_loss: 0.7744 - val_accuracy: 0.8333 - val_f1_m: 0.8368 - val_precision_m: 0.8854 - val_recall_m: 0.8125\n",
      "Epoch 21/50\n",
      "128/128 [==============================] - 36s 282ms/step - loss: 0.0626 - accuracy: 0.9844 - f1_m: 0.9844 - precision_m: 0.9844 - recall_m: 0.9844 - val_loss: 1.2465 - val_accuracy: 0.7708 - val_f1_m: 0.7778 - val_precision_m: 0.8333 - val_recall_m: 0.7500\n",
      "Epoch 22/50\n",
      "128/128 [==============================] - 36s 283ms/step - loss: 0.0861 - accuracy: 0.9727 - f1_m: 0.9740 - precision_m: 0.9766 - recall_m: 0.9727 - val_loss: 1.3902 - val_accuracy: 0.7083 - val_f1_m: 0.7118 - val_precision_m: 0.7604 - val_recall_m: 0.6875\n",
      "Epoch 23/50\n",
      "128/128 [==============================] - 36s 284ms/step - loss: 0.5173 - accuracy: 0.8477 - f1_m: 0.8398 - precision_m: 0.8711 - recall_m: 0.8242 - val_loss: 2.3270 - val_accuracy: 0.5625 - val_f1_m: 0.5660 - val_precision_m: 0.5938 - val_recall_m: 0.5521\n",
      "Epoch 24/50\n",
      "128/128 [==============================] - 36s 282ms/step - loss: 0.2595 - accuracy: 0.9102 - f1_m: 0.9180 - precision_m: 0.9414 - recall_m: 0.9062 - val_loss: 1.2630 - val_accuracy: 0.7500 - val_f1_m: 0.7604 - val_precision_m: 0.8021 - val_recall_m: 0.7396\n",
      "Epoch 25/50\n",
      "128/128 [==============================] - 36s 282ms/step - loss: 0.0584 - accuracy: 0.9844 - f1_m: 0.9831 - precision_m: 0.9883 - recall_m: 0.9805 - val_loss: 0.7898 - val_accuracy: 0.8021 - val_f1_m: 0.8021 - val_precision_m: 0.8438 - val_recall_m: 0.7812\n",
      "Epoch 26/50\n",
      "128/128 [==============================] - 36s 282ms/step - loss: 0.0419 - accuracy: 0.9883 - f1_m: 0.9857 - precision_m: 0.9883 - recall_m: 0.9844 - val_loss: 1.0280 - val_accuracy: 0.8021 - val_f1_m: 0.7708 - val_precision_m: 0.8333 - val_recall_m: 0.7396\n",
      "Epoch 27/50\n",
      "128/128 [==============================] - 36s 282ms/step - loss: 0.0494 - accuracy: 0.9844 - f1_m: 0.9844 - precision_m: 0.9844 - recall_m: 0.9844 - val_loss: 1.0134 - val_accuracy: 0.7917 - val_f1_m: 0.7951 - val_precision_m: 0.8438 - val_recall_m: 0.7708\n",
      "Epoch 28/50\n",
      "128/128 [==============================] - 36s 282ms/step - loss: 0.1024 - accuracy: 0.9805 - f1_m: 0.9818 - precision_m: 0.9844 - recall_m: 0.9805 - val_loss: 1.0272 - val_accuracy: 0.7812 - val_f1_m: 0.7674 - val_precision_m: 0.7812 - val_recall_m: 0.7604\n",
      "Epoch 29/50\n",
      "128/128 [==============================] - 36s 282ms/step - loss: 0.0184 - accuracy: 0.9961 - f1_m: 0.9961 - precision_m: 0.9961 - recall_m: 0.9961 - val_loss: 0.7676 - val_accuracy: 0.8333 - val_f1_m: 0.8472 - val_precision_m: 0.8958 - val_recall_m: 0.8229\n",
      "Epoch 30/50\n",
      "128/128 [==============================] - 36s 282ms/step - loss: 0.0380 - accuracy: 0.9805 - f1_m: 0.9831 - precision_m: 0.9883 - recall_m: 0.9805 - val_loss: 0.9298 - val_accuracy: 0.7917 - val_f1_m: 0.7986 - val_precision_m: 0.8333 - val_recall_m: 0.7812\n",
      "Epoch 31/50\n",
      "128/128 [==============================] - 36s 282ms/step - loss: 0.0313 - accuracy: 0.9844 - f1_m: 0.9844 - precision_m: 0.9844 - recall_m: 0.9844 - val_loss: 0.7083 - val_accuracy: 0.8229 - val_f1_m: 0.8333 - val_precision_m: 0.8750 - val_recall_m: 0.8125\n",
      "Epoch 32/50\n",
      "128/128 [==============================] - 36s 282ms/step - loss: 0.0449 - accuracy: 0.9922 - f1_m: 0.9922 - precision_m: 0.9922 - recall_m: 0.9922 - val_loss: 0.7107 - val_accuracy: 0.8229 - val_f1_m: 0.8333 - val_precision_m: 0.8750 - val_recall_m: 0.8125\n",
      "Epoch 33/50\n",
      "128/128 [==============================] - 36s 282ms/step - loss: 0.0305 - accuracy: 0.9922 - f1_m: 0.9896 - precision_m: 0.9922 - recall_m: 0.9883 - val_loss: 0.7934 - val_accuracy: 0.8333 - val_f1_m: 0.8403 - val_precision_m: 0.8750 - val_recall_m: 0.8229\n",
      "Epoch 34/50\n",
      "128/128 [==============================] - 36s 283ms/step - loss: 0.0049 - accuracy: 1.0000 - f1_m: 1.0000 - precision_m: 1.0000 - recall_m: 1.0000 - val_loss: 0.7322 - val_accuracy: 0.8646 - val_f1_m: 0.8576 - val_precision_m: 0.8854 - val_recall_m: 0.8438\n",
      "Epoch 35/50\n",
      "128/128 [==============================] - 36s 282ms/step - loss: 0.0017 - accuracy: 1.0000 - f1_m: 1.0000 - precision_m: 1.0000 - recall_m: 1.0000 - val_loss: 0.7365 - val_accuracy: 0.8646 - val_f1_m: 0.8438 - val_precision_m: 0.8646 - val_recall_m: 0.8333\n",
      "Epoch 36/50\n",
      "128/128 [==============================] - 36s 283ms/step - loss: 0.1608 - accuracy: 0.9609 - f1_m: 0.9609 - precision_m: 0.9688 - recall_m: 0.9570 - val_loss: 1.3791 - val_accuracy: 0.7083 - val_f1_m: 0.6979 - val_precision_m: 0.7396 - val_recall_m: 0.6771\n",
      "Epoch 37/50\n",
      "128/128 [==============================] - 36s 282ms/step - loss: 0.1296 - accuracy: 0.9609 - f1_m: 0.9596 - precision_m: 0.9648 - recall_m: 0.9570 - val_loss: 1.3075 - val_accuracy: 0.8021 - val_f1_m: 0.8125 - val_precision_m: 0.8542 - val_recall_m: 0.7917\n",
      "Epoch 38/50\n",
      "128/128 [==============================] - 36s 281ms/step - loss: 0.1133 - accuracy: 0.9609 - f1_m: 0.9544 - precision_m: 0.9648 - recall_m: 0.9492 - val_loss: 1.2516 - val_accuracy: 0.7917 - val_f1_m: 0.7674 - val_precision_m: 0.8021 - val_recall_m: 0.7500\n",
      "Epoch 39/50\n",
      "128/128 [==============================] - 36s 282ms/step - loss: 0.1306 - accuracy: 0.9492 - f1_m: 0.9531 - precision_m: 0.9609 - recall_m: 0.9492 - val_loss: 1.2207 - val_accuracy: 0.7604 - val_f1_m: 0.7778 - val_precision_m: 0.8333 - val_recall_m: 0.7500\n",
      "Epoch 40/50\n",
      "128/128 [==============================] - 36s 283ms/step - loss: 0.0117 - accuracy: 1.0000 - f1_m: 1.0000 - precision_m: 1.0000 - recall_m: 1.0000 - val_loss: 0.8275 - val_accuracy: 0.8646 - val_f1_m: 0.8472 - val_precision_m: 0.8750 - val_recall_m: 0.8333\n",
      "Epoch 41/50\n",
      "128/128 [==============================] - 36s 282ms/step - loss: 0.0208 - accuracy: 0.9961 - f1_m: 0.9935 - precision_m: 0.9961 - recall_m: 0.9922 - val_loss: 0.9639 - val_accuracy: 0.8021 - val_f1_m: 0.8090 - val_precision_m: 0.8646 - val_recall_m: 0.7812\n",
      "Epoch 42/50\n",
      "128/128 [==============================] - 36s 282ms/step - loss: 0.0096 - accuracy: 1.0000 - f1_m: 1.0000 - precision_m: 1.0000 - recall_m: 1.0000 - val_loss: 0.9444 - val_accuracy: 0.8229 - val_f1_m: 0.8403 - val_precision_m: 0.8750 - val_recall_m: 0.8229\n",
      "Epoch 43/50\n",
      "128/128 [==============================] - 36s 282ms/step - loss: 0.0021 - accuracy: 1.0000 - f1_m: 1.0000 - precision_m: 1.0000 - recall_m: 1.0000 - val_loss: 0.9291 - val_accuracy: 0.8333 - val_f1_m: 0.8438 - val_precision_m: 0.8646 - val_recall_m: 0.8333\n",
      "Epoch 44/50\n",
      "128/128 [==============================] - 36s 282ms/step - loss: 0.0020 - accuracy: 1.0000 - f1_m: 1.0000 - precision_m: 1.0000 - recall_m: 1.0000 - val_loss: 0.8943 - val_accuracy: 0.8438 - val_f1_m: 0.8507 - val_precision_m: 0.8854 - val_recall_m: 0.8333\n",
      "Epoch 45/50\n",
      "128/128 [==============================] - 36s 282ms/step - loss: 0.0018 - accuracy: 1.0000 - f1_m: 1.0000 - precision_m: 1.0000 - recall_m: 1.0000 - val_loss: 0.9045 - val_accuracy: 0.8333 - val_f1_m: 0.8368 - val_precision_m: 0.8646 - val_recall_m: 0.8229\n",
      "Epoch 46/50\n",
      "128/128 [==============================] - 36s 282ms/step - loss: 8.9015e-04 - accuracy: 1.0000 - f1_m: 1.0000 - precision_m: 1.0000 - recall_m: 1.0000 - val_loss: 0.8892 - val_accuracy: 0.8438 - val_f1_m: 0.8472 - val_precision_m: 0.8750 - val_recall_m: 0.8333\n",
      "Epoch 47/50\n",
      "128/128 [==============================] - 36s 283ms/step - loss: 0.0011 - accuracy: 1.0000 - f1_m: 1.0000 - precision_m: 1.0000 - recall_m: 1.0000 - val_loss: 0.8911 - val_accuracy: 0.8438 - val_f1_m: 0.8472 - val_precision_m: 0.8750 - val_recall_m: 0.8333\n",
      "Epoch 48/50\n",
      "128/128 [==============================] - 36s 282ms/step - loss: 8.4907e-04 - accuracy: 1.0000 - f1_m: 1.0000 - precision_m: 1.0000 - recall_m: 1.0000 - val_loss: 0.9103 - val_accuracy: 0.8438 - val_f1_m: 0.8438 - val_precision_m: 0.8646 - val_recall_m: 0.8333\n",
      "Epoch 49/50\n",
      "128/128 [==============================] - 36s 282ms/step - loss: 5.3650e-04 - accuracy: 1.0000 - f1_m: 1.0000 - precision_m: 1.0000 - recall_m: 1.0000 - val_loss: 0.9038 - val_accuracy: 0.8438 - val_f1_m: 0.8507 - val_precision_m: 0.8854 - val_recall_m: 0.8333\n",
      "Epoch 50/50\n",
      "128/128 [==============================] - 36s 282ms/step - loss: 6.5563e-04 - accuracy: 1.0000 - f1_m: 1.0000 - precision_m: 1.0000 - recall_m: 1.0000 - val_loss: 0.9007 - val_accuracy: 0.8438 - val_f1_m: 0.8507 - val_precision_m: 0.8854 - val_recall_m: 0.8333\n"
     ]
    }
   ],
   "source": [
    "history4 = model4.fit(train_image_generator, \n",
    "                 epochs=50, \n",
    "                 verbose=1, \n",
    "                 validation_data=val_image_generator,  \n",
    "                 )"
   ]
  },
  {
   "cell_type": "code",
   "execution_count": 42,
   "metadata": {},
   "outputs": [],
   "source": [
    "ense_acc = history4.history[\"val_accuracy\"][49]\n",
    "ense_prec = history4.history[\"val_precision_m\"][49]\n",
    "ense_rec = history4.history[\"val_recall_m\"][49]\n",
    "ense_f1 = history4.history[\"val_f1_m\"][49]"
   ]
  },
  {
   "cell_type": "code",
   "execution_count": 43,
   "metadata": {},
   "outputs": [],
   "source": [
    "storeResults('Xecption + MobileNet',ense_acc,ense_prec,ense_rec,ense_f1)"
   ]
  },
  {
   "cell_type": "code",
   "execution_count": 44,
   "metadata": {},
   "outputs": [
    {
     "data": {
      "image/png": "[encoded data removed]",
      "text/plain": [
       "<Figure size 432x288 with 2 Axes>"
      ]
     },
     "metadata": {
      "needs_background": "light"
     },
     "output_type": "display_data"
    }
   ],
   "source": [
    "fig, (ax1, ax2) = plt.subplots(2, 1)\n",
    "ax1.plot(history4.history[\"loss\"], color=\"b\", label=\"Training loss\")\n",
    "ax1.plot(history4.history[\"val_loss\"], color=\"r\", label=\"validation loss\")\n",
    "ax1.legend()\n",
    "\n",
    "ax2.plot(history4.history[\"accuracy\"], color=\"b\", label=\"Training accuracy\")\n",
    "ax2.plot(history4.history[\"val_accuracy\"], color=\"r\", label=\"Validation accuracy\")\n",
    "ax2.legend()\n",
    "\n",
    "legend = plt.legend(loc=\"best\")\n",
    "plt.tight_layout()\n",
    "plt.show()"
   ]
  },
  {
   "cell_type": "markdown",
   "metadata": {},
   "source": [
    "Conv Neural Network(UNet Stru) Feature Extraction with SVM"
   ]
  },
  {
   "cell_type": "markdown",
   "metadata": {},
   "source": [
    "# CNN with SVM"
   ]
  },
  {
   "cell_type": "code",
   "execution_count": 45,
   "metadata": {},
   "outputs": [
    {
     "name": "stdout",
     "output_type": "stream",
     "text": [
      "Model: \"sequential\"\n",
      "_________________________________________________________________\n",
      "Layer (type)                 Output Shape              Param #   \n",
      "=================================================================\n",
      "conv2d (Conv2D)              (None, 32, 32, 32)        11648     \n",
      "_________________________________________________________________\n",
      "batch_normalization (BatchNo (None, 32, 32, 32)        128       \n",
      "_________________________________________________________________\n",
      "module_wrapper (ModuleWrappe (None, 32, 32, 32)        0         \n",
      "_________________________________________________________________\n",
      "max_pooling2d (MaxPooling2D) (None, 16, 16, 32)        0         \n",
      "_________________________________________________________________\n",
      "conv2d_1 (Conv2D)            (None, 16, 16, 32)        25632     \n",
      "_________________________________________________________________\n",
      "batch_normalization_1 (Batch (None, 16, 16, 32)        128       \n",
      "_________________________________________________________________\n",
      "module_wrapper_1 (ModuleWrap (None, 16, 16, 32)        0         \n",
      "_________________________________________________________________\n",
      "max_pooling2d_1 (MaxPooling2 (None, 8, 8, 32)          0         \n",
      "_________________________________________________________________\n",
      "conv2d_2 (Conv2D)            (None, 8, 8, 64)          51264     \n",
      "_________________________________________________________________\n",
      "batch_normalization_2 (Batch (None, 8, 8, 64)          256       \n",
      "_________________________________________________________________\n",
      "module_wrapper_2 (ModuleWrap (None, 8, 8, 64)          0         \n",
      "_________________________________________________________________\n",
      "max_pooling2d_2 (MaxPooling2 (None, 4, 4, 64)          0         \n",
      "_________________________________________________________________\n",
      "conv2d_3 (Conv2D)            (None, 4, 4, 64)          36928     \n",
      "_________________________________________________________________\n",
      "batch_normalization_3 (Batch (None, 4, 4, 64)          256       \n",
      "_________________________________________________________________\n",
      "module_wrapper_3 (ModuleWrap (None, 4, 4, 64)          0         \n",
      "_________________________________________________________________\n",
      "conv2d_4 (Conv2D)            (None, 4, 4, 128)         73856     \n",
      "_________________________________________________________________\n",
      "batch_normalization_4 (Batch (None, 4, 4, 128)         512       \n",
      "_________________________________________________________________\n",
      "module_wrapper_4 (ModuleWrap (None, 4, 4, 128)         0         \n",
      "_________________________________________________________________\n",
      "conv2d_5 (Conv2D)            (None, 4, 4, 512)         590336    \n",
      "_________________________________________________________________\n",
      "batch_normalization_5 (Batch (None, 4, 4, 512)         2048      \n",
      "_________________________________________________________________\n",
      "module_wrapper_5 (ModuleWrap (None, 4, 4, 512)         0         \n",
      "_________________________________________________________________\n",
      "conv2d_6 (Conv2D)            (None, 4, 4, 64)          294976    \n",
      "_________________________________________________________________\n",
      "batch_normalization_6 (Batch (None, 4, 4, 64)          256       \n",
      "_________________________________________________________________\n",
      "module_wrapper_6 (ModuleWrap (None, 4, 4, 64)          0         \n",
      "_________________________________________________________________\n",
      "conv2d_7 (Conv2D)            (None, 4, 4, 128)         73856     \n",
      "_________________________________________________________________\n",
      "batch_normalization_7 (Batch (None, 4, 4, 128)         512       \n",
      "_________________________________________________________________\n",
      "module_wrapper_7 (ModuleWrap (None, 4, 4, 128)         0         \n",
      "_________________________________________________________________\n",
      "conv2d_8 (Conv2D)            (None, 4, 4, 32)          102432    \n",
      "_________________________________________________________________\n",
      "batch_normalization_8 (Batch (None, 4, 4, 32)          128       \n",
      "_________________________________________________________________\n",
      "module_wrapper_8 (ModuleWrap (None, 4, 4, 32)          0         \n",
      "_________________________________________________________________\n",
      "max_pooling2d_3 (MaxPooling2 (None, 2, 2, 32)          0         \n",
      "_________________________________________________________________\n",
      "conv2d_9 (Conv2D)            (None, 2, 2, 64)          18496     \n",
      "_________________________________________________________________\n",
      "batch_normalization_9 (Batch (None, 2, 2, 64)          256       \n",
      "_________________________________________________________________\n",
      "module_wrapper_9 (ModuleWrap (None, 2, 2, 64)          0         \n",
      "_________________________________________________________________\n",
      "max_pooling2d_4 (MaxPooling2 (None, 1, 1, 64)          0         \n",
      "_________________________________________________________________\n",
      "flatten_1 (Flatten)          (None, 64)                0         \n",
      "_________________________________________________________________\n",
      "module_wrapper_10 (ModuleWra (None, 32)                2080      \n",
      "_________________________________________________________________\n",
      "batch_normalization_10 (Batc (None, 32)                128       \n",
      "_________________________________________________________________\n",
      "module_wrapper_11 (ModuleWra (None, 32)                0         \n",
      "=================================================================\n",
      "Total params: 1,286,112\n",
      "Trainable params: 1,283,808\n",
      "Non-trainable params: 2,304\n",
      "_________________________________________________________________\n"
     ]
    }
   ],
   "source": [
    "\n",
    "model = Sequential()\n",
    "\n",
    "# Input Layer\n",
    "model.add(Conv2D(filters=32, input_shape=(128,128,3), kernel_size=(11,11), strides=(4,4), padding='same'))\n",
    "model.add(BatchNormalization())\n",
    "model.add(Activation('relu'))\n",
    "model.add(MaxPooling2D(pool_size=(2,2), strides=(2,2), padding='same'))\n",
    "\n",
    "# 32 -> 64\n",
    "model.add(Conv2D(filters=32, kernel_size=(5, 5), strides=(1,1), padding='same'))\n",
    "model.add(BatchNormalization())\n",
    "model.add(Activation('relu'))\n",
    "model.add(MaxPooling2D(pool_size=(2,2), strides=(2,2), padding='same'))\n",
    "model.add(Conv2D(filters=64, kernel_size=(5, 5), strides=(1,1), padding='same'))\n",
    "model.add(BatchNormalization())\n",
    "model.add(Activation('relu'))\n",
    "model.add(MaxPooling2D(pool_size=(2,2), strides=(2,2), padding='same'))\n",
    "\n",
    "# 64 -> 128\n",
    "model.add(Conv2D(filters=64, kernel_size=(3,3), strides=(1,1), padding='same'))\n",
    "model.add(BatchNormalization())\n",
    "model.add(Activation('relu'))\n",
    "model.add(Conv2D(filters=128, kernel_size=(3,3), strides=(1,1), padding='same'))\n",
    "model.add(BatchNormalization())\n",
    "model.add(Activation('relu'))\n",
    "\n",
    "# Middle Layer\n",
    "model.add(Conv2D(filters=512, kernel_size=(3,3), strides=(1,1), padding='same'))\n",
    "model.add(BatchNormalization())\n",
    "model.add(Activation('relu'))\n",
    "\n",
    "\n",
    "# 64 -> 128\n",
    "model.add(Conv2D(filters=64, kernel_size=(3,3), strides=(1,1), padding='same'))\n",
    "model.add(BatchNormalization())\n",
    "model.add(Activation('relu'))\n",
    "model.add(Conv2D(filters=128, kernel_size=(3,3), strides=(1,1), padding='same'))\n",
    "model.add(BatchNormalization())\n",
    "model.add(Activation('relu'))\n",
    "\n",
    "# 32 -> 64\n",
    "model.add(Conv2D(filters=32, kernel_size=(5, 5), strides=(1,1), padding='same'))\n",
    "model.add(BatchNormalization())\n",
    "model.add(Activation('relu'))\n",
    "model.add(MaxPooling2D(pool_size=(2,2), strides=(2,2), padding='same'))\n",
    "model.add(Conv2D(filters=64, kernel_size=(3,3), strides=(1,1), padding='same'))\n",
    "model.add(BatchNormalization())\n",
    "model.add(Activation('relu'))\n",
    "model.add(MaxPooling2D(pool_size=(2,2), strides=(2,2), padding='same'))\n",
    "\n",
    "#Passing it to a Fully Connected layer\n",
    "model.add(Flatten())\n",
    "\n",
    "#Output Layer\n",
    "model.add(Dense(32))\n",
    "model.add(BatchNormalization())\n",
    "model.add(Activation('softmax'))\n",
    "\n",
    "#Model Summary\n",
    "model.summary()"
   ]
  },
  {
   "cell_type": "code",
   "execution_count": 46,
   "metadata": {},
   "outputs": [],
   "source": [
    "#Now, let us use features from convolutional network for RF\n",
    "feature_extractor= model.predict(x_train)"
   ]
  },
  {
   "cell_type": "code",
   "execution_count": 47,
   "metadata": {},
   "outputs": [],
   "source": [
    "features = feature_extractor.reshape(feature_extractor.shape[0], -1)\n",
    "\n",
    "X_train_feature = features"
   ]
  },
  {
   "cell_type": "code",
   "execution_count": 48,
   "metadata": {},
   "outputs": [],
   "source": [
    "X_test_feature = model.predict(x_test)\n",
    "X_test_features = X_test_feature.reshape(X_test_feature.shape[0], -1)"
   ]
  },
  {
   "cell_type": "code",
   "execution_count": 49,
   "metadata": {},
   "outputs": [],
   "source": [
    "from sklearn.metrics import accuracy_score, precision_score, recall_score, f1_score"
   ]
  },
  {
   "cell_type": "code",
   "execution_count": 50,
   "metadata": {},
   "outputs": [],
   "source": [
    "from sklearn.svm import SVC\n",
    "svm_model = SVC()\n",
    "svm_model.fit(X_train_feature, y_train) #For sklearn no one hot encoding\n",
    "\n",
    "prediction_svm = svm_model.predict(X_test_features)\n",
    "#Inverse le transform to get original label back. \n",
    "prediction_svm = le.inverse_transform(prediction_svm)\n",
    "\n",
    "svm_acc = accuracy_score(test_labels, prediction_svm)\n",
    "svm_prec = precision_score(test_labels, prediction_svm,average='weighted')\n",
    "svm_rec = recall_score(test_labels, prediction_svm,average='weighted')\n",
    "svm_f1 = f1_score(test_labels, prediction_svm,average='weighted')"
   ]
  },
  {
   "cell_type": "code",
   "execution_count": 51,
   "metadata": {},
   "outputs": [],
   "source": [
    "storeResults('UNET(CNN)-SVM',svm_acc,svm_prec,svm_rec,svm_f1)"
   ]
  },
  {
   "cell_type": "markdown",
   "metadata": {},
   "source": [
    "# Comparison"
   ]
  },
  {
   "cell_type": "code",
   "execution_count": 52,
   "metadata": {},
   "outputs": [],
   "source": [
    "#creating dataframe\n",
    "import pandas as pd\n",
    "result = pd.DataFrame({ 'ML Model' : ML_Model,\n",
    "                        'Accuracy' : accuracy,\n",
    "                       'Precision': precision,\n",
    "                       'Recall'   : recall, \n",
    "                       'F1_score' : f1score,\n",
    "                        \n",
    "                        \n",
    "                      })"
   ]
  },
  {
   "cell_type": "code",
   "execution_count": 53,
   "metadata": {},
   "outputs": [
    {
     "data": {
      "text/html": [
       "<div>\n",
       "<style scoped>\n",
       "    .dataframe tbody tr th:only-of-type {\n",
       "        vertical-align: middle;\n",
       "    }\n",
       "\n",
       "    .dataframe tbody tr th {\n",
       "        vertical-align: top;\n",
       "    }\n",
       "\n",
       "    .dataframe thead th {\n",
       "        text-align: right;\n",
       "    }\n",
       "</style>\n",
       "<table border=\"1\" class=\"dataframe\">\n",
       "  <thead>\n",
       "    <tr style=\"text-align: right;\">\n",
       "      <th></th>\n",
       "      <th>ML Model</th>\n",
       "      <th>Accuracy</th>\n",
       "      <th>Precision</th>\n",
       "      <th>Recall</th>\n",
       "      <th>F1_score</th>\n",
       "    </tr>\n",
       "  </thead>\n",
       "  <tbody>\n",
       "    <tr>\n",
       "      <th>0</th>\n",
       "      <td>CNN</td>\n",
       "      <td>0.984</td>\n",
       "      <td>0.988</td>\n",
       "      <td>0.969</td>\n",
       "      <td>0.975</td>\n",
       "    </tr>\n",
       "    <tr>\n",
       "      <th>1</th>\n",
       "      <td>MobileNet</td>\n",
       "      <td>0.992</td>\n",
       "      <td>0.992</td>\n",
       "      <td>0.992</td>\n",
       "      <td>0.992</td>\n",
       "    </tr>\n",
       "    <tr>\n",
       "      <th>2</th>\n",
       "      <td>Xecption</td>\n",
       "      <td>1.000</td>\n",
       "      <td>1.000</td>\n",
       "      <td>1.000</td>\n",
       "      <td>1.000</td>\n",
       "    </tr>\n",
       "    <tr>\n",
       "      <th>3</th>\n",
       "      <td>Xecption + MobileNet</td>\n",
       "      <td>0.844</td>\n",
       "      <td>0.885</td>\n",
       "      <td>0.833</td>\n",
       "      <td>0.851</td>\n",
       "    </tr>\n",
       "    <tr>\n",
       "      <th>4</th>\n",
       "      <td>UNET(CNN)-SVM</td>\n",
       "      <td>0.245</td>\n",
       "      <td>0.155</td>\n",
       "      <td>0.245</td>\n",
       "      <td>0.167</td>\n",
       "    </tr>\n",
       "  </tbody>\n",
       "</table>\n",
       "</div>"
      ],
      "text/plain": [
       "               ML Model  Accuracy  Precision  Recall  F1_score\n",
       "0                   CNN     0.984      0.988   0.969     0.975\n",
       "1             MobileNet     0.992      0.992   0.992     0.992\n",
       "2              Xecption     1.000      1.000   1.000     1.000\n",
       "3  Xecption + MobileNet     0.844      0.885   0.833     0.851\n",
       "4         UNET(CNN)-SVM     0.245      0.155   0.245     0.167"
      ]
     },
     "execution_count": 53,
     "metadata": {},
     "output_type": "execute_result"
    }
   ],
   "source": [
    "result"
   ]
  },
  {
   "cell_type": "markdown",
   "metadata": {},
   "source": [
    "# Graph"
   ]
  },
  {
   "cell_type": "code",
   "execution_count": 54,
   "metadata": {},
   "outputs": [],
   "source": [
    "classifier = ML_Model\n",
    "y_pos = np.arange(len(classifier))"
   ]
  },
  {
   "cell_type": "markdown",
   "metadata": {},
   "source": [
    "# Accuracy"
   ]
  },
  {
   "cell_type": "code",
   "execution_count": 55,
   "metadata": {},
   "outputs": [
    {
     "data": {
      "image/png": "[encoded data removed]",
      "text/plain": [
       "<Figure size 432x288 with 1 Axes>"
      ]
     },
     "metadata": {
      "needs_background": "light"
     },
     "output_type": "display_data"
    }
   ],
   "source": [
    "import matplotlib.pyplot as plt2\n",
    "plt2.barh(y_pos, accuracy, align='center', alpha=0.5,color='blue')\n",
    "plt2.yticks(y_pos, classifier)\n",
    "plt2.xlabel('Accuracy Score')\n",
    "plt2.title('Classification Performance')\n",
    "plt2.show()"
   ]
  },
  {
   "cell_type": "markdown",
   "metadata": {},
   "source": [
    "# Precision"
   ]
  },
  {
   "cell_type": "code",
   "execution_count": 56,
   "metadata": {},
   "outputs": [
    {
     "data": {
      "image/png": "[encoded data removed]",
      "text/plain": [
       "<Figure size 432x288 with 1 Axes>"
      ]
     },
     "metadata": {
      "needs_background": "light"
     },
     "output_type": "display_data"
    }
   ],
   "source": [
    "import matplotlib.pyplot as plt2\n",
    "plt2.barh(y_pos, precision, align='center', alpha=0.5,color='red')\n",
    "plt2.yticks(y_pos, classifier)\n",
    "plt2.xlabel('Precision Score')\n",
    "plt2.title('Classification Performance')\n",
    "plt2.show()"
   ]
  },
  {
   "cell_type": "markdown",
   "metadata": {},
   "source": [
    "# Recall"
   ]
  },
  {
   "cell_type": "code",
   "execution_count": 57,
   "metadata": {},
   "outputs": [
    {
     "data": {
      "image/png": "[encoded data removed]",
      "text/plain": [
       "<Figure size 432x288 with 1 Axes>"
      ]
     },
     "metadata": {
      "needs_background": "light"
     },
     "output_type": "display_data"
    }
   ],
   "source": [
    "import matplotlib.pyplot as plt2\n",
    "plt2.barh(y_pos, recall, align='center', alpha=0.5,color='yellow')\n",
    "plt2.yticks(y_pos, classifier)\n",
    "plt2.xlabel('Recall Score')\n",
    "plt2.title('Classification Performance')\n",
    "plt2.show()"
   ]
  },
  {
   "cell_type": "markdown",
   "metadata": {},
   "source": [
    "# F1 SCore"
   ]
  },
  {
   "cell_type": "code",
   "execution_count": 58,
   "metadata": {},
   "outputs": [
    {
     "data": {
      "image/png": "[encoded data removed]",
      "text/plain": [
       "<Figure size 432x288 with 1 Axes>"
      ]
     },
     "metadata": {
      "needs_background": "light"
     },
     "output_type": "display_data"
    }
   ],
   "source": [
    "import matplotlib.pyplot as plt2\n",
    "plt2.barh(y_pos, f1score, align='center', alpha=0.5,color='pink')\n",
    "plt2.yticks(y_pos, classifier)\n",
    "plt2.xlabel('F1 Score')\n",
    "plt2.title('Classification Performance')\n",
    "plt2.show()"
   ]
  },
  {
   "cell_type": "code",
   "execution_count": null,
   "metadata": {},
   "outputs": [],
   "source": []
  }
 ],
 "metadata": {
  "kernelspec": {
   "display_name": "Python 3",
   "language": "python",
   "name": "python3"
  },
  "language_info": {
   "codemirror_mode": {
    "name": "ipython",
    "version": 3
   },
   "file_extension": ".py",
   "mimetype": "text/x-python",
   "name": "python",
   "nbconvert_exporter": "python",
   "pygments_lexer": "ipython3",
   "version": "3.7.4"
  }
 },
 "nbformat": 4,
 "nbformat_minor": 2
}
